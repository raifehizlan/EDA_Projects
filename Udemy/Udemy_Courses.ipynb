{
 "cells": [
  {
   "cell_type": "code",
   "execution_count": 1,
   "metadata": {},
   "outputs": [
    {
     "name": "stdout",
     "output_type": "stream",
     "text": [
      "Requirement already satisfied: plotly==5.1.0 in c:\\users\\ra\\onedrive\\lib\\site-packages (5.1.0)\n",
      "Requirement already satisfied: six in c:\\users\\ra\\onedrive\\lib\\site-packages (from plotly==5.1.0) (1.15.0)\n",
      "Requirement already satisfied: tenacity>=6.2.0 in c:\\users\\ra\\onedrive\\lib\\site-packages (from plotly==5.1.0) (8.0.1)\n",
      "Note: you may need to restart the kernel to use updated packages.\n"
     ]
    }
   ],
   "source": [
    "pip install plotly==5.1.0"
   ]
  },
  {
   "cell_type": "code",
   "execution_count": 2,
   "metadata": {},
   "outputs": [],
   "source": [
    "import pandas as pd\n",
    "import numpy as np\n",
    "import seaborn as sns\n",
    "import plotly.io as pio\n",
    "import matplotlib as plt\n",
    "import warnings\n",
    "warnings.filterwarnings('ignore')\n",
    "\n",
    "pio.renderers.default = 'iframe'\n",
    "\n",
    "import plotly \n",
    "import plotly.express as px\n",
    "import plotly.graph_objs as go\n",
    "import plotly.offline as py\n",
    "from plotly.offline import iplot\n",
    "from plotly.subplots import make_subplots\n",
    "import plotly.figure_factory as ff\n"
   ]
  },
  {
   "cell_type": "code",
   "execution_count": 3,
   "metadata": {},
   "outputs": [
    {
     "data": {
      "text/html": [
       "<div>\n",
       "<style scoped>\n",
       "    .dataframe tbody tr th:only-of-type {\n",
       "        vertical-align: middle;\n",
       "    }\n",
       "\n",
       "    .dataframe tbody tr th {\n",
       "        vertical-align: top;\n",
       "    }\n",
       "\n",
       "    .dataframe thead th {\n",
       "        text-align: right;\n",
       "    }\n",
       "</style>\n",
       "<table border=\"1\" class=\"dataframe\">\n",
       "  <thead>\n",
       "    <tr style=\"text-align: right;\">\n",
       "      <th></th>\n",
       "      <th>course_id</th>\n",
       "      <th>course_title</th>\n",
       "      <th>url</th>\n",
       "      <th>is_paid</th>\n",
       "      <th>price</th>\n",
       "      <th>num_subscribers</th>\n",
       "      <th>num_reviews</th>\n",
       "      <th>num_lectures</th>\n",
       "      <th>level</th>\n",
       "      <th>content_duration</th>\n",
       "      <th>published_timestamp</th>\n",
       "      <th>subject</th>\n",
       "    </tr>\n",
       "  </thead>\n",
       "  <tbody>\n",
       "    <tr>\n",
       "      <th>0</th>\n",
       "      <td>1070968</td>\n",
       "      <td>Ultimate Investment Banking Course</td>\n",
       "      <td>https://www.udemy.com/ultimate-investment-bank...</td>\n",
       "      <td>True</td>\n",
       "      <td>200</td>\n",
       "      <td>2147</td>\n",
       "      <td>23</td>\n",
       "      <td>51</td>\n",
       "      <td>All Levels</td>\n",
       "      <td>1.5</td>\n",
       "      <td>2017-01-18T20:58:58Z</td>\n",
       "      <td>Business Finance</td>\n",
       "    </tr>\n",
       "    <tr>\n",
       "      <th>1</th>\n",
       "      <td>1113822</td>\n",
       "      <td>Complete GST Course &amp; Certification - Grow You...</td>\n",
       "      <td>https://www.udemy.com/goods-and-services-tax/</td>\n",
       "      <td>True</td>\n",
       "      <td>75</td>\n",
       "      <td>2792</td>\n",
       "      <td>923</td>\n",
       "      <td>274</td>\n",
       "      <td>All Levels</td>\n",
       "      <td>39.0</td>\n",
       "      <td>2017-03-09T16:34:20Z</td>\n",
       "      <td>Business Finance</td>\n",
       "    </tr>\n",
       "    <tr>\n",
       "      <th>2</th>\n",
       "      <td>1006314</td>\n",
       "      <td>Financial Modeling for Business Analysts and C...</td>\n",
       "      <td>https://www.udemy.com/financial-modeling-for-b...</td>\n",
       "      <td>True</td>\n",
       "      <td>45</td>\n",
       "      <td>2174</td>\n",
       "      <td>74</td>\n",
       "      <td>51</td>\n",
       "      <td>Intermediate Level</td>\n",
       "      <td>2.5</td>\n",
       "      <td>2016-12-19T19:26:30Z</td>\n",
       "      <td>Business Finance</td>\n",
       "    </tr>\n",
       "    <tr>\n",
       "      <th>3</th>\n",
       "      <td>1210588</td>\n",
       "      <td>Beginner to Pro - Financial Analysis in Excel ...</td>\n",
       "      <td>https://www.udemy.com/complete-excel-finance-c...</td>\n",
       "      <td>True</td>\n",
       "      <td>95</td>\n",
       "      <td>2451</td>\n",
       "      <td>11</td>\n",
       "      <td>36</td>\n",
       "      <td>All Levels</td>\n",
       "      <td>3.0</td>\n",
       "      <td>2017-05-30T20:07:24Z</td>\n",
       "      <td>Business Finance</td>\n",
       "    </tr>\n",
       "    <tr>\n",
       "      <th>4</th>\n",
       "      <td>1011058</td>\n",
       "      <td>How To Maximize Your Profits Trading Options</td>\n",
       "      <td>https://www.udemy.com/how-to-maximize-your-pro...</td>\n",
       "      <td>True</td>\n",
       "      <td>200</td>\n",
       "      <td>1276</td>\n",
       "      <td>45</td>\n",
       "      <td>26</td>\n",
       "      <td>Intermediate Level</td>\n",
       "      <td>2.0</td>\n",
       "      <td>2016-12-13T14:57:18Z</td>\n",
       "      <td>Business Finance</td>\n",
       "    </tr>\n",
       "  </tbody>\n",
       "</table>\n",
       "</div>"
      ],
      "text/plain": [
       "   course_id                                       course_title  \\\n",
       "0    1070968                 Ultimate Investment Banking Course   \n",
       "1    1113822  Complete GST Course & Certification - Grow You...   \n",
       "2    1006314  Financial Modeling for Business Analysts and C...   \n",
       "3    1210588  Beginner to Pro - Financial Analysis in Excel ...   \n",
       "4    1011058       How To Maximize Your Profits Trading Options   \n",
       "\n",
       "                                                 url  is_paid  price  \\\n",
       "0  https://www.udemy.com/ultimate-investment-bank...     True    200   \n",
       "1      https://www.udemy.com/goods-and-services-tax/     True     75   \n",
       "2  https://www.udemy.com/financial-modeling-for-b...     True     45   \n",
       "3  https://www.udemy.com/complete-excel-finance-c...     True     95   \n",
       "4  https://www.udemy.com/how-to-maximize-your-pro...     True    200   \n",
       "\n",
       "   num_subscribers  num_reviews  num_lectures               level  \\\n",
       "0             2147           23            51          All Levels   \n",
       "1             2792          923           274          All Levels   \n",
       "2             2174           74            51  Intermediate Level   \n",
       "3             2451           11            36          All Levels   \n",
       "4             1276           45            26  Intermediate Level   \n",
       "\n",
       "   content_duration   published_timestamp           subject  \n",
       "0               1.5  2017-01-18T20:58:58Z  Business Finance  \n",
       "1              39.0  2017-03-09T16:34:20Z  Business Finance  \n",
       "2               2.5  2016-12-19T19:26:30Z  Business Finance  \n",
       "3               3.0  2017-05-30T20:07:24Z  Business Finance  \n",
       "4               2.0  2016-12-13T14:57:18Z  Business Finance  "
      ]
     },
     "execution_count": 3,
     "metadata": {},
     "output_type": "execute_result"
    }
   ],
   "source": [
    "df = pd.read_csv('udemy_courses.csv')\n",
    "df.head()"
   ]
  },
  {
   "cell_type": "raw",
   "metadata": {},
   "source": [
    "dataya bakıldığında ücretli/ücretsiz kursların tercih grafiği çıkarılabilir\n",
    "hangi alanlarda daha çok kurs tercih edilmiş.\n",
    "kategorisel olarak subject group by yapılarak kullanılabilir.\n",
    "\n"
   ]
  },
  {
   "cell_type": "code",
   "execution_count": 4,
   "metadata": {},
   "outputs": [
    {
     "data": {
      "text/plain": [
       "(3678, 12)"
      ]
     },
     "execution_count": 4,
     "metadata": {},
     "output_type": "execute_result"
    }
   ],
   "source": [
    "df.shape\n",
    "\n",
    "# 3678 kursumuz var ve bunlara ait 12 feature, 12 ayrı bilgi var."
   ]
  },
  {
   "cell_type": "code",
   "execution_count": 5,
   "metadata": {},
   "outputs": [
    {
     "name": "stdout",
     "output_type": "stream",
     "text": [
      "<class 'pandas.core.frame.DataFrame'>\n",
      "RangeIndex: 3678 entries, 0 to 3677\n",
      "Data columns (total 12 columns):\n",
      " #   Column               Non-Null Count  Dtype  \n",
      "---  ------               --------------  -----  \n",
      " 0   course_id            3678 non-null   int64  \n",
      " 1   course_title         3678 non-null   object \n",
      " 2   url                  3678 non-null   object \n",
      " 3   is_paid              3678 non-null   bool   \n",
      " 4   price                3678 non-null   int64  \n",
      " 5   num_subscribers      3678 non-null   int64  \n",
      " 6   num_reviews          3678 non-null   int64  \n",
      " 7   num_lectures         3678 non-null   int64  \n",
      " 8   level                3678 non-null   object \n",
      " 9   content_duration     3678 non-null   float64\n",
      " 10  published_timestamp  3678 non-null   object \n",
      " 11  subject              3678 non-null   object \n",
      "dtypes: bool(1), float64(1), int64(5), object(5)\n",
      "memory usage: 319.8+ KB\n"
     ]
    }
   ],
   "source": [
    "df.info()\n",
    "\n",
    "# temiz bir data olduğunu görüyoruz. data type larında bizi rahatsız eden data type var mı?\n",
    "# published_timestamp, datetime tipinde olması daha uygun olur.\n",
    "# url ile ilgili bir çalışmam olmayacaksa düşürülebilir,"
   ]
  },
  {
   "cell_type": "code",
   "execution_count": 6,
   "metadata": {},
   "outputs": [
    {
     "data": {
      "text/plain": [
       "course_id              0\n",
       "course_title           0\n",
       "url                    0\n",
       "is_paid                0\n",
       "price                  0\n",
       "num_subscribers        0\n",
       "num_reviews            0\n",
       "num_lectures           0\n",
       "level                  0\n",
       "content_duration       0\n",
       "published_timestamp    0\n",
       "subject                0\n",
       "dtype: int64"
      ]
     },
     "execution_count": 6,
     "metadata": {},
     "output_type": "execute_result"
    }
   ],
   "source": [
    "df.isnull().sum()\n",
    "\n",
    "# temiz bir data gibi gözüküyor."
   ]
  },
  {
   "cell_type": "code",
   "execution_count": 7,
   "metadata": {},
   "outputs": [
    {
     "data": {
      "text/html": [
       "<div>\n",
       "<style scoped>\n",
       "    .dataframe tbody tr th:only-of-type {\n",
       "        vertical-align: middle;\n",
       "    }\n",
       "\n",
       "    .dataframe tbody tr th {\n",
       "        vertical-align: top;\n",
       "    }\n",
       "\n",
       "    .dataframe thead th {\n",
       "        text-align: right;\n",
       "    }\n",
       "</style>\n",
       "<table border=\"1\" class=\"dataframe\">\n",
       "  <thead>\n",
       "    <tr style=\"text-align: right;\">\n",
       "      <th></th>\n",
       "      <th>course_id</th>\n",
       "      <th>price</th>\n",
       "      <th>num_subscribers</th>\n",
       "      <th>num_reviews</th>\n",
       "      <th>num_lectures</th>\n",
       "      <th>content_duration</th>\n",
       "    </tr>\n",
       "  </thead>\n",
       "  <tbody>\n",
       "    <tr>\n",
       "      <th>count</th>\n",
       "      <td>3.678000e+03</td>\n",
       "      <td>3678.000000</td>\n",
       "      <td>3678.000000</td>\n",
       "      <td>3678.000000</td>\n",
       "      <td>3678.000000</td>\n",
       "      <td>3678.000000</td>\n",
       "    </tr>\n",
       "    <tr>\n",
       "      <th>mean</th>\n",
       "      <td>6.759720e+05</td>\n",
       "      <td>66.049483</td>\n",
       "      <td>3197.150625</td>\n",
       "      <td>156.259108</td>\n",
       "      <td>40.108755</td>\n",
       "      <td>4.094517</td>\n",
       "    </tr>\n",
       "    <tr>\n",
       "      <th>std</th>\n",
       "      <td>3.432732e+05</td>\n",
       "      <td>61.005755</td>\n",
       "      <td>9504.117010</td>\n",
       "      <td>935.452044</td>\n",
       "      <td>50.383346</td>\n",
       "      <td>6.053840</td>\n",
       "    </tr>\n",
       "    <tr>\n",
       "      <th>min</th>\n",
       "      <td>8.324000e+03</td>\n",
       "      <td>0.000000</td>\n",
       "      <td>0.000000</td>\n",
       "      <td>0.000000</td>\n",
       "      <td>0.000000</td>\n",
       "      <td>0.000000</td>\n",
       "    </tr>\n",
       "    <tr>\n",
       "      <th>25%</th>\n",
       "      <td>4.076925e+05</td>\n",
       "      <td>20.000000</td>\n",
       "      <td>111.000000</td>\n",
       "      <td>4.000000</td>\n",
       "      <td>15.000000</td>\n",
       "      <td>1.000000</td>\n",
       "    </tr>\n",
       "    <tr>\n",
       "      <th>50%</th>\n",
       "      <td>6.879170e+05</td>\n",
       "      <td>45.000000</td>\n",
       "      <td>911.500000</td>\n",
       "      <td>18.000000</td>\n",
       "      <td>25.000000</td>\n",
       "      <td>2.000000</td>\n",
       "    </tr>\n",
       "    <tr>\n",
       "      <th>75%</th>\n",
       "      <td>9.613555e+05</td>\n",
       "      <td>95.000000</td>\n",
       "      <td>2546.000000</td>\n",
       "      <td>67.000000</td>\n",
       "      <td>45.750000</td>\n",
       "      <td>4.500000</td>\n",
       "    </tr>\n",
       "    <tr>\n",
       "      <th>max</th>\n",
       "      <td>1.282064e+06</td>\n",
       "      <td>200.000000</td>\n",
       "      <td>268923.000000</td>\n",
       "      <td>27445.000000</td>\n",
       "      <td>779.000000</td>\n",
       "      <td>78.500000</td>\n",
       "    </tr>\n",
       "  </tbody>\n",
       "</table>\n",
       "</div>"
      ],
      "text/plain": [
       "          course_id        price  num_subscribers   num_reviews  num_lectures  \\\n",
       "count  3.678000e+03  3678.000000      3678.000000   3678.000000   3678.000000   \n",
       "mean   6.759720e+05    66.049483      3197.150625    156.259108     40.108755   \n",
       "std    3.432732e+05    61.005755      9504.117010    935.452044     50.383346   \n",
       "min    8.324000e+03     0.000000         0.000000      0.000000      0.000000   \n",
       "25%    4.076925e+05    20.000000       111.000000      4.000000     15.000000   \n",
       "50%    6.879170e+05    45.000000       911.500000     18.000000     25.000000   \n",
       "75%    9.613555e+05    95.000000      2546.000000     67.000000     45.750000   \n",
       "max    1.282064e+06   200.000000    268923.000000  27445.000000    779.000000   \n",
       "\n",
       "       content_duration  \n",
       "count       3678.000000  \n",
       "mean           4.094517  \n",
       "std            6.053840  \n",
       "min            0.000000  \n",
       "25%            1.000000  \n",
       "50%            2.000000  \n",
       "75%            4.500000  \n",
       "max           78.500000  "
      ]
     },
     "execution_count": 7,
     "metadata": {},
     "output_type": "execute_result"
    }
   ],
   "source": [
    "df.describe()"
   ]
  },
  {
   "cell_type": "code",
   "execution_count": 9,
   "metadata": {},
   "outputs": [],
   "source": [
    "df['date'] = pd.to_datetime(df['published_timestamp'])\n",
    "\n",
    "# published_timestamp ı datetime yaparak date adında bir sütun yaptım."
   ]
  },
  {
   "cell_type": "raw",
   "metadata": {},
   "source": [
    "\"course_id\" sini gereksiz görmüştük, \"url\"ler ile çalışmayacağız ve \n",
    "\"published_timestamp\" yerine \"date\" sütunu oluşturduğum için artık ona ihtiyacım yok.\n",
    "bunları düşürüyorum."
   ]
  },
  {
   "cell_type": "code",
   "execution_count": 10,
   "metadata": {},
   "outputs": [],
   "source": [
    "# drop ile düşürdüm\n",
    "\n",
    "df1 = df.drop(['course_id', 'url', 'published_timestamp'], axis=1).copy()"
   ]
  },
  {
   "cell_type": "code",
   "execution_count": 11,
   "metadata": {},
   "outputs": [
    {
     "data": {
      "text/html": [
       "<div>\n",
       "<style scoped>\n",
       "    .dataframe tbody tr th:only-of-type {\n",
       "        vertical-align: middle;\n",
       "    }\n",
       "\n",
       "    .dataframe tbody tr th {\n",
       "        vertical-align: top;\n",
       "    }\n",
       "\n",
       "    .dataframe thead th {\n",
       "        text-align: right;\n",
       "    }\n",
       "</style>\n",
       "<table border=\"1\" class=\"dataframe\">\n",
       "  <thead>\n",
       "    <tr style=\"text-align: right;\">\n",
       "      <th></th>\n",
       "      <th>course_title</th>\n",
       "      <th>is_paid</th>\n",
       "      <th>price</th>\n",
       "      <th>num_subscribers</th>\n",
       "      <th>num_reviews</th>\n",
       "      <th>num_lectures</th>\n",
       "      <th>level</th>\n",
       "      <th>content_duration</th>\n",
       "      <th>subject</th>\n",
       "      <th>date</th>\n",
       "    </tr>\n",
       "  </thead>\n",
       "  <tbody>\n",
       "    <tr>\n",
       "      <th>140</th>\n",
       "      <td>Intro to Financial Modeling</td>\n",
       "      <td>True</td>\n",
       "      <td>105</td>\n",
       "      <td>1077</td>\n",
       "      <td>110</td>\n",
       "      <td>55</td>\n",
       "      <td>Beginner Level</td>\n",
       "      <td>6.0</td>\n",
       "      <td>Business Finance</td>\n",
       "      <td>2016-08-19 20:12:24+00:00</td>\n",
       "    </tr>\n",
       "    <tr>\n",
       "      <th>1403</th>\n",
       "      <td>Mobile App Design: From Beginner to Intermediate</td>\n",
       "      <td>True</td>\n",
       "      <td>140</td>\n",
       "      <td>896</td>\n",
       "      <td>21</td>\n",
       "      <td>108</td>\n",
       "      <td>All Levels</td>\n",
       "      <td>10.0</td>\n",
       "      <td>Graphic Design</td>\n",
       "      <td>2017-02-20 17:42:07+00:00</td>\n",
       "    </tr>\n",
       "  </tbody>\n",
       "</table>\n",
       "</div>"
      ],
      "text/plain": [
       "                                          course_title  is_paid  price  \\\n",
       "140                        Intro to Financial Modeling     True    105   \n",
       "1403  Mobile App Design: From Beginner to Intermediate     True    140   \n",
       "\n",
       "      num_subscribers  num_reviews  num_lectures           level  \\\n",
       "140              1077          110            55  Beginner Level   \n",
       "1403              896           21           108      All Levels   \n",
       "\n",
       "      content_duration           subject                      date  \n",
       "140                6.0  Business Finance 2016-08-19 20:12:24+00:00  \n",
       "1403              10.0    Graphic Design 2017-02-20 17:42:07+00:00  "
      ]
     },
     "execution_count": 11,
     "metadata": {},
     "output_type": "execute_result"
    }
   ],
   "source": [
    "df1.sample(2)"
   ]
  },
  {
   "cell_type": "code",
   "execution_count": 12,
   "metadata": {},
   "outputs": [
    {
     "data": {
      "text/html": [
       "<div>\n",
       "<style scoped>\n",
       "    .dataframe tbody tr th:only-of-type {\n",
       "        vertical-align: middle;\n",
       "    }\n",
       "\n",
       "    .dataframe tbody tr th {\n",
       "        vertical-align: top;\n",
       "    }\n",
       "\n",
       "    .dataframe thead th {\n",
       "        text-align: right;\n",
       "    }\n",
       "</style>\n",
       "<table border=\"1\" class=\"dataframe\">\n",
       "  <thead>\n",
       "    <tr style=\"text-align: right;\">\n",
       "      <th></th>\n",
       "      <th>price</th>\n",
       "      <th>num_subscribers</th>\n",
       "      <th>num_reviews</th>\n",
       "      <th>num_lectures</th>\n",
       "      <th>content_duration</th>\n",
       "    </tr>\n",
       "  </thead>\n",
       "  <tbody>\n",
       "    <tr>\n",
       "      <th>count</th>\n",
       "      <td>3678.000000</td>\n",
       "      <td>3678.000000</td>\n",
       "      <td>3678.000000</td>\n",
       "      <td>3678.000000</td>\n",
       "      <td>3678.000000</td>\n",
       "    </tr>\n",
       "    <tr>\n",
       "      <th>mean</th>\n",
       "      <td>66.049483</td>\n",
       "      <td>3197.150625</td>\n",
       "      <td>156.259108</td>\n",
       "      <td>40.108755</td>\n",
       "      <td>4.094517</td>\n",
       "    </tr>\n",
       "    <tr>\n",
       "      <th>std</th>\n",
       "      <td>61.005755</td>\n",
       "      <td>9504.117010</td>\n",
       "      <td>935.452044</td>\n",
       "      <td>50.383346</td>\n",
       "      <td>6.053840</td>\n",
       "    </tr>\n",
       "    <tr>\n",
       "      <th>min</th>\n",
       "      <td>0.000000</td>\n",
       "      <td>0.000000</td>\n",
       "      <td>0.000000</td>\n",
       "      <td>0.000000</td>\n",
       "      <td>0.000000</td>\n",
       "    </tr>\n",
       "    <tr>\n",
       "      <th>25%</th>\n",
       "      <td>20.000000</td>\n",
       "      <td>111.000000</td>\n",
       "      <td>4.000000</td>\n",
       "      <td>15.000000</td>\n",
       "      <td>1.000000</td>\n",
       "    </tr>\n",
       "    <tr>\n",
       "      <th>50%</th>\n",
       "      <td>45.000000</td>\n",
       "      <td>911.500000</td>\n",
       "      <td>18.000000</td>\n",
       "      <td>25.000000</td>\n",
       "      <td>2.000000</td>\n",
       "    </tr>\n",
       "    <tr>\n",
       "      <th>75%</th>\n",
       "      <td>95.000000</td>\n",
       "      <td>2546.000000</td>\n",
       "      <td>67.000000</td>\n",
       "      <td>45.750000</td>\n",
       "      <td>4.500000</td>\n",
       "    </tr>\n",
       "    <tr>\n",
       "      <th>max</th>\n",
       "      <td>200.000000</td>\n",
       "      <td>268923.000000</td>\n",
       "      <td>27445.000000</td>\n",
       "      <td>779.000000</td>\n",
       "      <td>78.500000</td>\n",
       "    </tr>\n",
       "  </tbody>\n",
       "</table>\n",
       "</div>"
      ],
      "text/plain": [
       "             price  num_subscribers   num_reviews  num_lectures  \\\n",
       "count  3678.000000      3678.000000   3678.000000   3678.000000   \n",
       "mean     66.049483      3197.150625    156.259108     40.108755   \n",
       "std      61.005755      9504.117010    935.452044     50.383346   \n",
       "min       0.000000         0.000000      0.000000      0.000000   \n",
       "25%      20.000000       111.000000      4.000000     15.000000   \n",
       "50%      45.000000       911.500000     18.000000     25.000000   \n",
       "75%      95.000000      2546.000000     67.000000     45.750000   \n",
       "max     200.000000    268923.000000  27445.000000    779.000000   \n",
       "\n",
       "       content_duration  \n",
       "count       3678.000000  \n",
       "mean           4.094517  \n",
       "std            6.053840  \n",
       "min            0.000000  \n",
       "25%            1.000000  \n",
       "50%            2.000000  \n",
       "75%            4.500000  \n",
       "max           78.500000  "
      ]
     },
     "execution_count": 12,
     "metadata": {},
     "output_type": "execute_result"
    }
   ],
   "source": [
    "df1.describe()"
   ]
  },
  {
   "cell_type": "raw",
   "metadata": {},
   "source": [
    "Price feature'u incelendiğinde: \n",
    "\n",
    "mean ile median'a baktığımızda mean'in çok daha yüksek olduğunu görüyoruz. Yani verilerin yoğunluğu ve ağırlığı sağ tarafta toplanmış, bu toplanma mean'i tam ortadaki veriye (median'a) göre sağa çekmiş demektir bu.\n",
    "\n",
    "Demek ki sağa doğru (pozitif yönde) skewed diyebiliriz. \n",
    "\n",
    "Q1 ve Q3 e baktığımızda baya bir yayılma olduğunu görüyoruz. Zaten mean ile median arasındaki farktan da yayılmanın olduğunu söyleyebiliriz.\n",
    "\n",
    "sample size küçük değil, büyük. böyle büyük bir sample'da standard deviation değeri bir iki outlier ile çok artmaz."
   ]
  },
  {
   "cell_type": "raw",
   "metadata": {},
   "source": [
    "num_subscribers:\n",
    "\n",
    "3678 kurs görüyoruz. bunların bazıların 0 kişi katılmış. maksimum olarak da bir kursa 2546 kişi katıldığını görüyoruz. kursların revaçta olma durumuna göre dağılımın çok arttığını görüyoruz. Bu yüzden standard deviation çok yüksek. dolayısıyla mean ile median arasındaki farkın da çok yüksek olduğunu görüyoruz.\n"
   ]
  },
  {
   "cell_type": "raw",
   "metadata": {},
   "source": [
    "num_reviews:\n",
    "\n",
    "mean medianın neredeyse 9 katı. sağa doğru skewed olduğunu anlıyoruz. standard deviation da büyük olmuş."
   ]
  },
  {
   "cell_type": "raw",
   "metadata": {},
   "source": [
    "standart dev. çok yüksekse ortalama değer benim için çok kullanışlı değildir. bu durumda ben median ile çalışırım. ilerde missing values doldurmak istediğimizde mean ile doldurmak mantıklı olmaz. median üzerinden gitmekte fayda var."
   ]
  },
  {
   "cell_type": "markdown",
   "metadata": {},
   "source": [
    "### describe() bilgilerinin dağılımını görmek istiyorum. histogram plot bunları için uygun"
   ]
  },
  {
   "cell_type": "code",
   "execution_count": 13,
   "metadata": {},
   "outputs": [
    {
     "data": {
      "image/png": "[encoded data removed]",
      "text/plain": [
       "<Figure size 432x288 with 1 Axes>"
      ]
     },
     "metadata": {
      "needs_background": "light"
     },
     "output_type": "display_data"
    }
   ],
   "source": [
    "# pandas ile histogram:\n",
    "\n",
    "df1.hist('price');"
   ]
  },
  {
   "cell_type": "code",
   "execution_count": 14,
   "metadata": {},
   "outputs": [
    {
     "data": {
      "text/plain": [
       "<AxesSubplot:xlabel='price', ylabel='Count'>"
      ]
     },
     "execution_count": 14,
     "metadata": {},
     "output_type": "execute_result"
    },
    {
     "data": {
      "image/png": "[encoded data removed]",
      "text/plain": [
       "<Figure size 432x288 with 1 Axes>"
      ]
     },
     "metadata": {
      "needs_background": "light"
     },
     "output_type": "display_data"
    }
   ],
   "source": [
    "sns.histplot(data=df1, x='price', kde=True)"
   ]
  },
  {
   "cell_type": "code",
   "execution_count": 15,
   "metadata": {},
   "outputs": [
    {
     "data": {
      "text/plain": [
       "<AxesSubplot:xlabel='num_subscribers', ylabel='Count'>"
      ]
     },
     "execution_count": 15,
     "metadata": {},
     "output_type": "execute_result"
    },
    {
     "data": {
      "image/png": "[encoded data removed]",
      "text/plain": [
       "<Figure size 432x288 with 1 Axes>"
      ]
     },
     "metadata": {
      "needs_background": "light"
     },
     "output_type": "display_data"
    }
   ],
   "source": [
    "sns.histplot(data=df1, x = \"num_subscribers\", kde=True, bins=40)"
   ]
  },
  {
   "cell_type": "code",
   "execution_count": 16,
   "metadata": {},
   "outputs": [
    {
     "data": {
      "text/plain": [
       "<AxesSubplot:xlabel='num_reviews', ylabel='Count'>"
      ]
     },
     "execution_count": 16,
     "metadata": {},
     "output_type": "execute_result"
    },
    {
     "data": {
      "image/png": "[encoded data removed]",
      "text/plain": [
       "<Figure size 432x288 with 1 Axes>"
      ]
     },
     "metadata": {
      "needs_background": "light"
     },
     "output_type": "display_data"
    }
   ],
   "source": [
    "sns.histplot(data=df1, x = \"num_reviews\", kde=True, bins=40)"
   ]
  },
  {
   "cell_type": "code",
   "execution_count": 17,
   "metadata": {},
   "outputs": [
    {
     "data": {
      "text/plain": [
       "<AxesSubplot:xlabel='num_lectures', ylabel='Count'>"
      ]
     },
     "execution_count": 17,
     "metadata": {},
     "output_type": "execute_result"
    },
    {
     "data": {
      "image/png": "[encoded data removed]",
      "text/plain": [
       "<Figure size 432x288 with 1 Axes>"
      ]
     },
     "metadata": {
      "needs_background": "light"
     },
     "output_type": "display_data"
    }
   ],
   "source": [
    "sns.histplot(data=df1, x = \"num_lectures\", kde=True, bins=40)"
   ]
  },
  {
   "cell_type": "code",
   "execution_count": 19,
   "metadata": {},
   "outputs": [
    {
     "data": {
      "text/plain": [
       "<AxesSubplot:xlabel='content_duration', ylabel='Count'>"
      ]
     },
     "execution_count": 19,
     "metadata": {},
     "output_type": "execute_result"
    },
    {
     "data": {
      "image/png": "[encoded data removed]",
      "text/plain": [
       "<Figure size 432x288 with 1 Axes>"
      ]
     },
     "metadata": {
      "needs_background": "light"
     },
     "output_type": "display_data"
    }
   ],
   "source": [
    "sns.histplot(data=df1, x = \"content_duration\", kde=True, bins=40)"
   ]
  },
  {
   "cell_type": "code",
   "execution_count": 20,
   "metadata": {},
   "outputs": [
    {
     "data": {
      "text/html": [
       "<iframe\n",
       "    scrolling=\"no\"\n",
       "    width=\"100%\"\n",
       "    height=\"545px\"\n",
       "    src=\"iframe_figures/figure_20.html\"\n",
       "    frameborder=\"0\"\n",
       "    allowfullscreen\n",
       "></iframe>\n"
      ]
     },
     "metadata": {},
     "output_type": "display_data"
    }
   ],
   "source": [
    "fig = px.histogram(df1, x = 'price', title = 'Price of UDEMY Courses')\n",
    "\n",
    "fig.show()"
   ]
  },
  {
   "cell_type": "raw",
   "metadata": {},
   "source": [
    "normal simetrik dağılımlarda mean'i baz almak lazım ama burdaki datada olduğu gibi dağılım varsa median daha uygun. burada sağ tarafta da bir odak var ama 25-50 euro aralığındaki odak datamın hikayesini daha iyi anlatıyor ki median'ımın 45, mean'inim 66 olduğunu hatırlayalım."
   ]
  },
  {
   "cell_type": "raw",
   "metadata": {},
   "source": [
    "uygun fiyatlı kurslara daha çok rağbet olduğunu ancak 200 euro civardındaki pahalı kursların da tercih edildiğini (burada 410 civarında yani datamızın %10'u civarında veri var), muhtemelen orada piyasada çok aranan kıymetli kursların olabileceğini, bu yüzden insanların ücreti yüksek olmasına rağmen tercih ettiklerini düşünebiliriz. Bu kursların instructer'larının iyi olduğu için tercih edilmiş olabileceğini de göz ardı etmemek lazım.\n",
    "\n",
    "oradaki outlier üzerinde çalışılabilir. insanlar o bölgede neden yoğunlaşmış? belki de aynı subject te daha düşük fiyatlı kurslar varken insanlar neden onları tercih etmiş?"
   ]
  },
  {
   "cell_type": "markdown",
   "metadata": {},
   "source": [
    "### price'ın boxplot'u "
   ]
  },
  {
   "cell_type": "code",
   "execution_count": 21,
   "metadata": {},
   "outputs": [
    {
     "data": {
      "text/plain": [
       "<AxesSubplot:xlabel='price'>"
      ]
     },
     "execution_count": 21,
     "metadata": {},
     "output_type": "execute_result"
    },
    {
     "data": {
      "image/png": "[encoded data removed]",
      "text/plain": [
       "<Figure size 432x288 with 1 Axes>"
      ]
     },
     "metadata": {
      "needs_background": "light"
     },
     "output_type": "display_data"
    }
   ],
   "source": [
    "sns.boxplot(data=df1, x = df1.price)"
   ]
  },
  {
   "cell_type": "code",
   "execution_count": 22,
   "metadata": {
    "scrolled": true
   },
   "outputs": [
    {
     "data": {
      "text/html": [
       "<iframe\n",
       "    scrolling=\"no\"\n",
       "    width=\"100%\"\n",
       "    height=\"545px\"\n",
       "    src=\"iframe_figures/figure_22.html\"\n",
       "    frameborder=\"0\"\n",
       "    allowfullscreen\n",
       "></iframe>\n"
      ]
     },
     "metadata": {},
     "output_type": "display_data"
    }
   ],
   "source": [
    "fig = px.box(df1, x='price', hover_data = df[['course_title', 'subject']])\n",
    "fig.update_traces(quartilemethod = \"inclusive\")\n",
    "fig.show()\n",
    "\n",
    "# fig.update_traces ile başlayan satır olmasa da çalışır ama outlierlar için gerekli bir kod\n"
   ]
  },
  {
   "cell_type": "code",
   "execution_count": 23,
   "metadata": {},
   "outputs": [
    {
     "data": {
      "image/png": "[encoded data removed]",
      "text/plain": [
       "<Figure size 432x288 with 1 Axes>"
      ]
     },
     "metadata": {
      "needs_background": "light"
     },
     "output_type": "display_data"
    }
   ],
   "source": [
    "sns.histplot(data = df1, x='num_subscribers', kde=True, bins=40);"
   ]
  },
  {
   "cell_type": "code",
   "execution_count": 25,
   "metadata": {},
   "outputs": [
    {
     "data": {
      "text/html": [
       "<iframe\n",
       "    scrolling=\"no\"\n",
       "    width=\"100%\"\n",
       "    height=\"545px\"\n",
       "    src=\"iframe_figures/figure_25.html\"\n",
       "    frameborder=\"0\"\n",
       "    allowfullscreen\n",
       "></iframe>\n"
      ]
     },
     "metadata": {},
     "output_type": "display_data"
    }
   ],
   "source": [
    "fig = px.box(df1, x='num_subscribers', hover_data=df1[['course_title', 'subject']])\n",
    "fig.update_traces(quartilemethod = \"inclusive\")\n",
    "fig.show()"
   ]
  },
  {
   "cell_type": "code",
   "execution_count": 26,
   "metadata": {},
   "outputs": [
    {
     "data": {
      "text/html": [
       "<iframe\n",
       "    scrolling=\"no\"\n",
       "    width=\"100%\"\n",
       "    height=\"545px\"\n",
       "    src=\"iframe_figures/figure_26.html\"\n",
       "    frameborder=\"0\"\n",
       "    allowfullscreen\n",
       "></iframe>\n"
      ]
     },
     "metadata": {},
     "output_type": "display_data"
    }
   ],
   "source": [
    "fig = px.box(df1, x='num_reviews', hover_data=df1[['course_title', 'subject']])\n",
    "fig.update_traces(quartilemethod = \"inclusive\")\n",
    "fig.show()"
   ]
  },
  {
   "cell_type": "code",
   "execution_count": 27,
   "metadata": {},
   "outputs": [
    {
     "data": {
      "text/plain": [
       "<AxesSubplot:ylabel='Frequency'>"
      ]
     },
     "execution_count": 27,
     "metadata": {},
     "output_type": "execute_result"
    },
    {
     "data": {
      "image/png": "[encoded data removed]",
      "text/plain": [
       "<Figure size 432x288 with 1 Axes>"
      ]
     },
     "metadata": {
      "needs_background": "light"
     },
     "output_type": "display_data"
    }
   ],
   "source": [
    "df[\"num_lectures\"].plot(kind=\"hist\")"
   ]
  },
  {
   "cell_type": "code",
   "execution_count": 28,
   "metadata": {
    "scrolled": true
   },
   "outputs": [
    {
     "data": {
      "text/html": [
       "<iframe\n",
       "    scrolling=\"no\"\n",
       "    width=\"100%\"\n",
       "    height=\"545px\"\n",
       "    src=\"iframe_figures/figure_28.html\"\n",
       "    frameborder=\"0\"\n",
       "    allowfullscreen\n",
       "></iframe>\n"
      ]
     },
     "metadata": {},
     "output_type": "display_data"
    }
   ],
   "source": [
    "fig = px.box(df1, x='num_lectures', title='Number of Lectures of UDEMY Courses')\n",
    "\n",
    "fig.show()"
   ]
  },
  {
   "cell_type": "raw",
   "metadata": {},
   "source": [
    "num_reviews:\n",
    "    \n",
    "kursların yüzde 80 gibi büyük bir oranının 0-100 arası review aldığını görüyoruz. fakat sağdaki kursların çok yüksek oranda review aldığını görüyoruz (mouse ile hover yaparsak en sağdaki 27445, bir önceki 22412 adet olduğunu görürüz) bu yüzden grafiğin sağa çekmesi normal."
   ]
  },
  {
   "cell_type": "raw",
   "metadata": {},
   "source": [
    "num_lectures: \n",
    "\n",
    "Q1 ve Q3'ün 11 ve 46, median'ın 25 lectures olduğu bu datada en sağdaki outlier'da 779 lecture sayısını görüyoruz. bu çok fazla. o kursun özel bir durumu var. belki her konu anlatımı ve practice için birer lecture yapmışlardır.\n",
    "    \n"
   ]
  },
  {
   "cell_type": "code",
   "execution_count": 29,
   "metadata": {},
   "outputs": [
    {
     "data": {
      "image/png": "[encoded data removed]",
      "text/plain": [
       "<Figure size 432x288 with 1 Axes>"
      ]
     },
     "metadata": {
      "needs_background": "light"
     },
     "output_type": "display_data"
    }
   ],
   "source": [
    "sns.histplot(data = df1, x='content_duration', kde = True, bins = 100);\n",
    "\n"
   ]
  },
  {
   "cell_type": "raw",
   "metadata": {},
   "source": [
    "content_duration:\n",
    "    \n",
    "kursların durationlarına baktığımızda büyük çoğunluğunun 0-10 saat arasında dağıldığını görüyoruz.\n"
   ]
  },
  {
   "cell_type": "markdown",
   "metadata": {},
   "source": [
    "### \"Subject\"in dağılımı"
   ]
  },
  {
   "cell_type": "code",
   "execution_count": 30,
   "metadata": {},
   "outputs": [
    {
     "data": {
      "text/plain": [
       "Web Development        1200\n",
       "Business Finance       1195\n",
       "Musical Instruments     680\n",
       "Graphic Design          603\n",
       "Name: subject, dtype: int64"
      ]
     },
     "execution_count": 30,
     "metadata": {},
     "output_type": "execute_result"
    }
   ],
   "source": [
    "df1.subject.value_counts()[:5]\n",
    "\n",
    "# tercih edilen subject lerin sayısı"
   ]
  },
  {
   "cell_type": "code",
   "execution_count": 31,
   "metadata": {},
   "outputs": [
    {
     "data": {
      "text/plain": [
       "Web Development        0.326264\n",
       "Business Finance       0.324905\n",
       "Musical Instruments    0.184883\n",
       "Graphic Design         0.163948\n",
       "Name: subject, dtype: float64"
      ]
     },
     "execution_count": 31,
     "metadata": {},
     "output_type": "execute_result"
    }
   ],
   "source": [
    "df1.subject.value_counts(normalize = True)[:10]\n",
    "\n",
    "# tercih edilen subject lerin sayısının normalize edilmiş hali.. yani yüzdesi"
   ]
  },
  {
   "cell_type": "code",
   "execution_count": 32,
   "metadata": {},
   "outputs": [
    {
     "data": {
      "text/html": [
       "<iframe\n",
       "    scrolling=\"no\"\n",
       "    width=\"100%\"\n",
       "    height=\"545px\"\n",
       "    src=\"iframe_figures/figure_32.html\"\n",
       "    frameborder=\"0\"\n",
       "    allowfullscreen\n",
       "></iframe>\n"
      ]
     },
     "metadata": {},
     "output_type": "display_data"
    }
   ],
   "source": [
    "fig = px.histogram(df1, x=\"subject\", title='subject', marginal = 'box')\n",
    "fig.show()"
   ]
  },
  {
   "cell_type": "raw",
   "metadata": {},
   "source": [
    "Business Finance ve Web Development konularında büyük bir dağılım görünüyor.  Musical Instruments ise %18.4 ile IT'yi doğrudan ilgilendiren konuların yanında ön plana çıkan bir başka subject olarak dikkat çekiyor. "
   ]
  },
  {
   "cell_type": "markdown",
   "metadata": {},
   "source": [
    "## correlation matrix incelemesi"
   ]
  },
  {
   "cell_type": "code",
   "execution_count": 35,
   "metadata": {},
   "outputs": [
    {
     "data": {
      "text/plain": [
       "<seaborn.axisgrid.PairGrid at 0x1daa426f880>"
      ]
     },
     "execution_count": 35,
     "metadata": {},
     "output_type": "execute_result"
    },
    {
     "data": {
      "image/png": "[encoded data removed]",
      "text/plain": [
       "<Figure size 1080x1080 with 27 Axes>"
      ]
     },
     "metadata": {
      "needs_background": "light"
     },
     "output_type": "display_data"
    }
   ],
   "source": [
    "sns.pairplot(df1,corner = True)\n"
   ]
  },
  {
   "cell_type": "raw",
   "metadata": {},
   "source": [
    "num_reviews ile price arasında plotun sonlarına doğru artış var. bu incelenebilir. datanın genelinden bağımsız olarak yüksek fiyatlı kurslara fazla yorum yapılmış. bu incelenmeli.\n",
    "\n",
    "num_lecture ile subscribe arasında hiç bir ilişki göremiyoruz. noktalar her yere dağılmış (%15) keza price ile arasında da kayda değer bir ilişki göremiyoruz (%33) \n",
    "\n",
    "price ile duration arasında %29 ile zayıf bir ilişki görüyoruz. demek ki çok ücret ödüyorum karşılığını kurs satti olarak isterim düşüncesi burda geçerli değil.\n",
    "\n",
    "content_duration ile num_lecture arasında kayda değer bir ilişki görüyoruz. (%80)\n",
    "\n",
    "reviews ile subscribe arasında reviewsin alt kısımlarında bir ilişki gözükse de reviews arttıkça subscribe hemen hemen aynı kalmış. o yüzden %65 te kalmış."
   ]
  },
  {
   "cell_type": "code",
   "execution_count": 37,
   "metadata": {},
   "outputs": [
    {
     "data": {
      "text/html": [
       "<div>\n",
       "<style scoped>\n",
       "    .dataframe tbody tr th:only-of-type {\n",
       "        vertical-align: middle;\n",
       "    }\n",
       "\n",
       "    .dataframe tbody tr th {\n",
       "        vertical-align: top;\n",
       "    }\n",
       "\n",
       "    .dataframe thead th {\n",
       "        text-align: right;\n",
       "    }\n",
       "</style>\n",
       "<table border=\"1\" class=\"dataframe\">\n",
       "  <thead>\n",
       "    <tr style=\"text-align: right;\">\n",
       "      <th></th>\n",
       "      <th>is_paid</th>\n",
       "      <th>price</th>\n",
       "      <th>num_subscribers</th>\n",
       "      <th>num_reviews</th>\n",
       "      <th>num_lectures</th>\n",
       "      <th>content_duration</th>\n",
       "    </tr>\n",
       "  </thead>\n",
       "  <tbody>\n",
       "    <tr>\n",
       "      <th>is_paid</th>\n",
       "      <td>1.000000</td>\n",
       "      <td>0.328513</td>\n",
       "      <td>-0.266159</td>\n",
       "      <td>-0.087471</td>\n",
       "      <td>0.112574</td>\n",
       "      <td>0.094417</td>\n",
       "    </tr>\n",
       "    <tr>\n",
       "      <th>price</th>\n",
       "      <td>0.328513</td>\n",
       "      <td>1.000000</td>\n",
       "      <td>0.050769</td>\n",
       "      <td>0.113696</td>\n",
       "      <td>0.330160</td>\n",
       "      <td>0.293450</td>\n",
       "    </tr>\n",
       "    <tr>\n",
       "      <th>num_subscribers</th>\n",
       "      <td>-0.266159</td>\n",
       "      <td>0.050769</td>\n",
       "      <td>1.000000</td>\n",
       "      <td>0.649946</td>\n",
       "      <td>0.157746</td>\n",
       "      <td>0.161839</td>\n",
       "    </tr>\n",
       "    <tr>\n",
       "      <th>num_reviews</th>\n",
       "      <td>-0.087471</td>\n",
       "      <td>0.113696</td>\n",
       "      <td>0.649946</td>\n",
       "      <td>1.000000</td>\n",
       "      <td>0.243029</td>\n",
       "      <td>0.228889</td>\n",
       "    </tr>\n",
       "    <tr>\n",
       "      <th>num_lectures</th>\n",
       "      <td>0.112574</td>\n",
       "      <td>0.330160</td>\n",
       "      <td>0.157746</td>\n",
       "      <td>0.243029</td>\n",
       "      <td>1.000000</td>\n",
       "      <td>0.801647</td>\n",
       "    </tr>\n",
       "    <tr>\n",
       "      <th>content_duration</th>\n",
       "      <td>0.094417</td>\n",
       "      <td>0.293450</td>\n",
       "      <td>0.161839</td>\n",
       "      <td>0.228889</td>\n",
       "      <td>0.801647</td>\n",
       "      <td>1.000000</td>\n",
       "    </tr>\n",
       "  </tbody>\n",
       "</table>\n",
       "</div>"
      ],
      "text/plain": [
       "                   is_paid     price  num_subscribers  num_reviews  \\\n",
       "is_paid           1.000000  0.328513        -0.266159    -0.087471   \n",
       "price             0.328513  1.000000         0.050769     0.113696   \n",
       "num_subscribers  -0.266159  0.050769         1.000000     0.649946   \n",
       "num_reviews      -0.087471  0.113696         0.649946     1.000000   \n",
       "num_lectures      0.112574  0.330160         0.157746     0.243029   \n",
       "content_duration  0.094417  0.293450         0.161839     0.228889   \n",
       "\n",
       "                  num_lectures  content_duration  \n",
       "is_paid               0.112574          0.094417  \n",
       "price                 0.330160          0.293450  \n",
       "num_subscribers       0.157746          0.161839  \n",
       "num_reviews           0.243029          0.228889  \n",
       "num_lectures          1.000000          0.801647  \n",
       "content_duration      0.801647          1.000000  "
      ]
     },
     "execution_count": 37,
     "metadata": {},
     "output_type": "execute_result"
    }
   ],
   "source": [
    "df1.corr()"
   ]
  },
  {
   "cell_type": "markdown",
   "metadata": {},
   "source": [
    "## heat plot"
   ]
  },
  {
   "cell_type": "code",
   "execution_count": 38,
   "metadata": {},
   "outputs": [
    {
     "data": {
      "text/plain": [
       "<AxesSubplot:>"
      ]
     },
     "execution_count": 38,
     "metadata": {},
     "output_type": "execute_result"
    },
    {
     "data": {
      "image/png": "[encoded data removed]",
      "text/plain": [
       "<Figure size 432x288 with 2 Axes>"
      ]
     },
     "metadata": {
      "needs_background": "light"
     },
     "output_type": "display_data"
    }
   ],
   "source": [
    "\n",
    "sns.heatmap(df1.corr(), annot=True)\n",
    "\n",
    "# sonra grafiği büyüt!!"
   ]
  },
  {
   "cell_type": "raw",
   "metadata": {},
   "source": [
    "price ile kıyasladığımızda:\n",
    "num_subscribers (kayıt olma durumu) correlation'ları incelendiğinde aralarında zayıf bir ilişki olduğunu görüyoruz. price ile kursa katılım arasında ilişki yok çünkü 0.05 bir ilişki sayılmaz.\n",
    "\n",
    "num_reviews arasında da bir ilişki yok. \n",
    "num_lectures arasında bir zayıf pozitif ilişki var diye gözlemiyorum. demek ki kurs süresi arttıkça kursun fiyatının da arttığını ama zayıf bir ilişki olduğunu söyleyebiliriz.\n",
    "\n",
    "num_subscribe ile :\n",
    "num_reviews arasında (0.6499) orta seviyede bir ilişki görüyoruz. kursa katılım sayısı arttıkça yapılan yorumlar arasında orta seviyede bir ilişkiden bahsedebiliriz.\n",
    "\n",
    "num_subscribe ile num_lectures ( ve num_subscribe ile content_duration arasında düşük bir corelasyon görüyoruz. demek ki kursların lecture sayısı arttıkça veya süresi arttıkça üye sayısı artar diyemeyiz. desek bile çok zayıf.\n",
    "\n",
    "num_reviews ile:\n",
    "num_lectures arasında zayıf bir ilişki var. lecture sayısı arttıkça yapılan yorum sayısı da anlamlı biçimde artmış diyemiyoruz.\n",
    "\n",
    "num_lectures ile:\n",
    "duration arasında kuvvetli bir ilişki var. kursların lecture sayısı arttıkça haliyle süresi de artmakta.\n",
    "\n",
    "(80 üstü kuvvetli, 40-60 arası gözlemlenebilir ilişi, 60-80 arası orta seviyede ilişki, 40 altı zayıf olarak düşünülebilinir)"
   ]
  },
  {
   "cell_type": "markdown",
   "metadata": {},
   "source": [
    "### hangi subject ten ne kadar kurs alınmış yıllara göre dağılımını görelim."
   ]
  },
  {
   "cell_type": "raw",
   "metadata": {},
   "source": [
    "Kursların dağılımları ile ilgili bana bilgi versin. yıllara göre bu kursların konu konu dağılımlarını göstersin. kurs subjectlerinin yıllara göre değişimini istiyoruz. "
   ]
  },
  {
   "cell_type": "code",
   "execution_count": 39,
   "metadata": {},
   "outputs": [
    {
     "data": {
      "text/plain": [
       "0      2017-01-18 20:58:58+00:00\n",
       "1      2017-03-09 16:34:20+00:00\n",
       "2      2016-12-19 19:26:30+00:00\n",
       "3      2017-05-30 20:07:24+00:00\n",
       "4      2016-12-13 14:57:18+00:00\n",
       "                  ...           \n",
       "3673   2016-06-14 17:36:46+00:00\n",
       "3674   2017-03-10 22:24:30+00:00\n",
       "3675   2015-12-30 16:41:42+00:00\n",
       "3676   2016-08-11 19:06:15+00:00\n",
       "3677   2014-09-28 19:51:11+00:00\n",
       "Name: date, Length: 3678, dtype: datetime64[ns, UTC]"
      ]
     },
     "execution_count": 39,
     "metadata": {},
     "output_type": "execute_result"
    }
   ],
   "source": [
    "df1.date"
   ]
  },
  {
   "cell_type": "code",
   "execution_count": 40,
   "metadata": {},
   "outputs": [],
   "source": [
    "df1['year'] = df1['date'].dt.year\n",
    "\n",
    "# bir datetime object olan \"date\" ten yılları çekip \"year\" sütununu oluşturduk."
   ]
  },
  {
   "cell_type": "code",
   "execution_count": 41,
   "metadata": {},
   "outputs": [
    {
     "data": {
      "text/html": [
       "<div>\n",
       "<style scoped>\n",
       "    .dataframe tbody tr th:only-of-type {\n",
       "        vertical-align: middle;\n",
       "    }\n",
       "\n",
       "    .dataframe tbody tr th {\n",
       "        vertical-align: top;\n",
       "    }\n",
       "\n",
       "    .dataframe thead th {\n",
       "        text-align: right;\n",
       "    }\n",
       "</style>\n",
       "<table border=\"1\" class=\"dataframe\">\n",
       "  <thead>\n",
       "    <tr style=\"text-align: right;\">\n",
       "      <th></th>\n",
       "      <th>course_title</th>\n",
       "      <th>is_paid</th>\n",
       "      <th>price</th>\n",
       "      <th>num_subscribers</th>\n",
       "      <th>num_reviews</th>\n",
       "      <th>num_lectures</th>\n",
       "      <th>level</th>\n",
       "      <th>content_duration</th>\n",
       "      <th>subject</th>\n",
       "      <th>date</th>\n",
       "      <th>year</th>\n",
       "    </tr>\n",
       "  </thead>\n",
       "  <tbody>\n",
       "    <tr>\n",
       "      <th>0</th>\n",
       "      <td>Ultimate Investment Banking Course</td>\n",
       "      <td>True</td>\n",
       "      <td>200</td>\n",
       "      <td>2147</td>\n",
       "      <td>23</td>\n",
       "      <td>51</td>\n",
       "      <td>All Levels</td>\n",
       "      <td>1.5</td>\n",
       "      <td>Business Finance</td>\n",
       "      <td>2017-01-18 20:58:58+00:00</td>\n",
       "      <td>2017</td>\n",
       "    </tr>\n",
       "    <tr>\n",
       "      <th>1</th>\n",
       "      <td>Complete GST Course &amp; Certification - Grow You...</td>\n",
       "      <td>True</td>\n",
       "      <td>75</td>\n",
       "      <td>2792</td>\n",
       "      <td>923</td>\n",
       "      <td>274</td>\n",
       "      <td>All Levels</td>\n",
       "      <td>39.0</td>\n",
       "      <td>Business Finance</td>\n",
       "      <td>2017-03-09 16:34:20+00:00</td>\n",
       "      <td>2017</td>\n",
       "    </tr>\n",
       "  </tbody>\n",
       "</table>\n",
       "</div>"
      ],
      "text/plain": [
       "                                        course_title  is_paid  price  \\\n",
       "0                 Ultimate Investment Banking Course     True    200   \n",
       "1  Complete GST Course & Certification - Grow You...     True     75   \n",
       "\n",
       "   num_subscribers  num_reviews  num_lectures       level  content_duration  \\\n",
       "0             2147           23            51  All Levels               1.5   \n",
       "1             2792          923           274  All Levels              39.0   \n",
       "\n",
       "            subject                      date  year  \n",
       "0  Business Finance 2017-01-18 20:58:58+00:00  2017  \n",
       "1  Business Finance 2017-03-09 16:34:20+00:00  2017  "
      ]
     },
     "execution_count": 41,
     "metadata": {},
     "output_type": "execute_result"
    }
   ],
   "source": [
    "df1.head(2)"
   ]
  },
  {
   "cell_type": "code",
   "execution_count": 42,
   "metadata": {},
   "outputs": [
    {
     "data": {
      "text/plain": [
       "year  subject            \n",
       "2011  Web Development          5\n",
       "2012  Web Development         19\n",
       "      Graphic Design          10\n",
       "      Musical Instruments     10\n",
       "      Business Finance         6\n",
       "2013  Business Finance        84\n",
       "      Web Development         56\n",
       "      Musical Instruments     39\n",
       "      Graphic Design          23\n",
       "2014  Business Finance       192\n",
       "      Musical Instruments    120\n",
       "      Web Development        113\n",
       "      Graphic Design          66\n",
       "2015  Business Finance       339\n",
       "      Web Development        336\n",
       "      Musical Instruments    171\n",
       "      Graphic Design         168\n",
       "2016  Web Development        448\n",
       "      Business Finance       349\n",
       "      Musical Instruments    228\n",
       "      Graphic Design         181\n",
       "2017  Business Finance       225\n",
       "      Web Development        223\n",
       "      Graphic Design         155\n",
       "      Musical Instruments    112\n",
       "Name: subject, dtype: int64"
      ]
     },
     "execution_count": 42,
     "metadata": {},
     "output_type": "execute_result"
    }
   ],
   "source": [
    "subject_year = df1.groupby('year')['subject'].value_counts()\n",
    "\n",
    "subject_year"
   ]
  },
  {
   "cell_type": "code",
   "execution_count": 43,
   "metadata": {},
   "outputs": [
    {
     "data": {
      "text/html": [
       "<div>\n",
       "<style scoped>\n",
       "    .dataframe tbody tr th:only-of-type {\n",
       "        vertical-align: middle;\n",
       "    }\n",
       "\n",
       "    .dataframe tbody tr th {\n",
       "        vertical-align: top;\n",
       "    }\n",
       "\n",
       "    .dataframe thead th {\n",
       "        text-align: right;\n",
       "    }\n",
       "</style>\n",
       "<table border=\"1\" class=\"dataframe\">\n",
       "  <thead>\n",
       "    <tr style=\"text-align: right;\">\n",
       "      <th></th>\n",
       "      <th>year</th>\n",
       "      <th>subject</th>\n",
       "    </tr>\n",
       "    <tr>\n",
       "      <th>subject</th>\n",
       "      <th></th>\n",
       "      <th></th>\n",
       "    </tr>\n",
       "  </thead>\n",
       "  <tbody>\n",
       "    <tr>\n",
       "      <th>Web Development</th>\n",
       "      <td>2011</td>\n",
       "      <td>5</td>\n",
       "    </tr>\n",
       "    <tr>\n",
       "      <th>Web Development</th>\n",
       "      <td>2012</td>\n",
       "      <td>19</td>\n",
       "    </tr>\n",
       "    <tr>\n",
       "      <th>Graphic Design</th>\n",
       "      <td>2012</td>\n",
       "      <td>10</td>\n",
       "    </tr>\n",
       "    <tr>\n",
       "      <th>Musical Instruments</th>\n",
       "      <td>2012</td>\n",
       "      <td>10</td>\n",
       "    </tr>\n",
       "    <tr>\n",
       "      <th>Business Finance</th>\n",
       "      <td>2012</td>\n",
       "      <td>6</td>\n",
       "    </tr>\n",
       "    <tr>\n",
       "      <th>Business Finance</th>\n",
       "      <td>2013</td>\n",
       "      <td>84</td>\n",
       "    </tr>\n",
       "    <tr>\n",
       "      <th>Web Development</th>\n",
       "      <td>2013</td>\n",
       "      <td>56</td>\n",
       "    </tr>\n",
       "    <tr>\n",
       "      <th>Musical Instruments</th>\n",
       "      <td>2013</td>\n",
       "      <td>39</td>\n",
       "    </tr>\n",
       "    <tr>\n",
       "      <th>Graphic Design</th>\n",
       "      <td>2013</td>\n",
       "      <td>23</td>\n",
       "    </tr>\n",
       "    <tr>\n",
       "      <th>Business Finance</th>\n",
       "      <td>2014</td>\n",
       "      <td>192</td>\n",
       "    </tr>\n",
       "    <tr>\n",
       "      <th>Musical Instruments</th>\n",
       "      <td>2014</td>\n",
       "      <td>120</td>\n",
       "    </tr>\n",
       "    <tr>\n",
       "      <th>Web Development</th>\n",
       "      <td>2014</td>\n",
       "      <td>113</td>\n",
       "    </tr>\n",
       "    <tr>\n",
       "      <th>Graphic Design</th>\n",
       "      <td>2014</td>\n",
       "      <td>66</td>\n",
       "    </tr>\n",
       "    <tr>\n",
       "      <th>Business Finance</th>\n",
       "      <td>2015</td>\n",
       "      <td>339</td>\n",
       "    </tr>\n",
       "    <tr>\n",
       "      <th>Web Development</th>\n",
       "      <td>2015</td>\n",
       "      <td>336</td>\n",
       "    </tr>\n",
       "    <tr>\n",
       "      <th>Musical Instruments</th>\n",
       "      <td>2015</td>\n",
       "      <td>171</td>\n",
       "    </tr>\n",
       "    <tr>\n",
       "      <th>Graphic Design</th>\n",
       "      <td>2015</td>\n",
       "      <td>168</td>\n",
       "    </tr>\n",
       "    <tr>\n",
       "      <th>Web Development</th>\n",
       "      <td>2016</td>\n",
       "      <td>448</td>\n",
       "    </tr>\n",
       "    <tr>\n",
       "      <th>Business Finance</th>\n",
       "      <td>2016</td>\n",
       "      <td>349</td>\n",
       "    </tr>\n",
       "    <tr>\n",
       "      <th>Musical Instruments</th>\n",
       "      <td>2016</td>\n",
       "      <td>228</td>\n",
       "    </tr>\n",
       "    <tr>\n",
       "      <th>Graphic Design</th>\n",
       "      <td>2016</td>\n",
       "      <td>181</td>\n",
       "    </tr>\n",
       "    <tr>\n",
       "      <th>Business Finance</th>\n",
       "      <td>2017</td>\n",
       "      <td>225</td>\n",
       "    </tr>\n",
       "    <tr>\n",
       "      <th>Web Development</th>\n",
       "      <td>2017</td>\n",
       "      <td>223</td>\n",
       "    </tr>\n",
       "    <tr>\n",
       "      <th>Graphic Design</th>\n",
       "      <td>2017</td>\n",
       "      <td>155</td>\n",
       "    </tr>\n",
       "    <tr>\n",
       "      <th>Musical Instruments</th>\n",
       "      <td>2017</td>\n",
       "      <td>112</td>\n",
       "    </tr>\n",
       "  </tbody>\n",
       "</table>\n",
       "</div>"
      ],
      "text/plain": [
       "                     year  subject\n",
       "subject                           \n",
       "Web Development      2011        5\n",
       "Web Development      2012       19\n",
       "Graphic Design       2012       10\n",
       "Musical Instruments  2012       10\n",
       "Business Finance     2012        6\n",
       "Business Finance     2013       84\n",
       "Web Development      2013       56\n",
       "Musical Instruments  2013       39\n",
       "Graphic Design       2013       23\n",
       "Business Finance     2014      192\n",
       "Musical Instruments  2014      120\n",
       "Web Development      2014      113\n",
       "Graphic Design       2014       66\n",
       "Business Finance     2015      339\n",
       "Web Development      2015      336\n",
       "Musical Instruments  2015      171\n",
       "Graphic Design       2015      168\n",
       "Web Development      2016      448\n",
       "Business Finance     2016      349\n",
       "Musical Instruments  2016      228\n",
       "Graphic Design       2016      181\n",
       "Business Finance     2017      225\n",
       "Web Development      2017      223\n",
       "Graphic Design       2017      155\n",
       "Musical Instruments  2017      112"
      ]
     },
     "execution_count": 43,
     "metadata": {},
     "output_type": "execute_result"
    }
   ],
   "source": [
    "df1.groupby('year')['subject'].value_counts().reset_index(level=0)"
   ]
  },
  {
   "cell_type": "code",
   "execution_count": 44,
   "metadata": {},
   "outputs": [
    {
     "data": {
      "text/html": [
       "<div>\n",
       "<style scoped>\n",
       "    .dataframe tbody tr th:only-of-type {\n",
       "        vertical-align: middle;\n",
       "    }\n",
       "\n",
       "    .dataframe tbody tr th {\n",
       "        vertical-align: top;\n",
       "    }\n",
       "\n",
       "    .dataframe thead th {\n",
       "        text-align: right;\n",
       "    }\n",
       "</style>\n",
       "<table border=\"1\" class=\"dataframe\">\n",
       "  <thead>\n",
       "    <tr style=\"text-align: right;\">\n",
       "      <th></th>\n",
       "      <th>year</th>\n",
       "      <th>subject count</th>\n",
       "    </tr>\n",
       "    <tr>\n",
       "      <th>subject</th>\n",
       "      <th></th>\n",
       "      <th></th>\n",
       "    </tr>\n",
       "  </thead>\n",
       "  <tbody>\n",
       "    <tr>\n",
       "      <th>Web Development</th>\n",
       "      <td>2011</td>\n",
       "      <td>5</td>\n",
       "    </tr>\n",
       "    <tr>\n",
       "      <th>Web Development</th>\n",
       "      <td>2012</td>\n",
       "      <td>19</td>\n",
       "    </tr>\n",
       "    <tr>\n",
       "      <th>Graphic Design</th>\n",
       "      <td>2012</td>\n",
       "      <td>10</td>\n",
       "    </tr>\n",
       "    <tr>\n",
       "      <th>Musical Instruments</th>\n",
       "      <td>2012</td>\n",
       "      <td>10</td>\n",
       "    </tr>\n",
       "    <tr>\n",
       "      <th>Business Finance</th>\n",
       "      <td>2012</td>\n",
       "      <td>6</td>\n",
       "    </tr>\n",
       "    <tr>\n",
       "      <th>Business Finance</th>\n",
       "      <td>2013</td>\n",
       "      <td>84</td>\n",
       "    </tr>\n",
       "    <tr>\n",
       "      <th>Web Development</th>\n",
       "      <td>2013</td>\n",
       "      <td>56</td>\n",
       "    </tr>\n",
       "    <tr>\n",
       "      <th>Musical Instruments</th>\n",
       "      <td>2013</td>\n",
       "      <td>39</td>\n",
       "    </tr>\n",
       "    <tr>\n",
       "      <th>Graphic Design</th>\n",
       "      <td>2013</td>\n",
       "      <td>23</td>\n",
       "    </tr>\n",
       "    <tr>\n",
       "      <th>Business Finance</th>\n",
       "      <td>2014</td>\n",
       "      <td>192</td>\n",
       "    </tr>\n",
       "    <tr>\n",
       "      <th>Musical Instruments</th>\n",
       "      <td>2014</td>\n",
       "      <td>120</td>\n",
       "    </tr>\n",
       "    <tr>\n",
       "      <th>Web Development</th>\n",
       "      <td>2014</td>\n",
       "      <td>113</td>\n",
       "    </tr>\n",
       "    <tr>\n",
       "      <th>Graphic Design</th>\n",
       "      <td>2014</td>\n",
       "      <td>66</td>\n",
       "    </tr>\n",
       "    <tr>\n",
       "      <th>Business Finance</th>\n",
       "      <td>2015</td>\n",
       "      <td>339</td>\n",
       "    </tr>\n",
       "    <tr>\n",
       "      <th>Web Development</th>\n",
       "      <td>2015</td>\n",
       "      <td>336</td>\n",
       "    </tr>\n",
       "    <tr>\n",
       "      <th>Musical Instruments</th>\n",
       "      <td>2015</td>\n",
       "      <td>171</td>\n",
       "    </tr>\n",
       "    <tr>\n",
       "      <th>Graphic Design</th>\n",
       "      <td>2015</td>\n",
       "      <td>168</td>\n",
       "    </tr>\n",
       "    <tr>\n",
       "      <th>Web Development</th>\n",
       "      <td>2016</td>\n",
       "      <td>448</td>\n",
       "    </tr>\n",
       "    <tr>\n",
       "      <th>Business Finance</th>\n",
       "      <td>2016</td>\n",
       "      <td>349</td>\n",
       "    </tr>\n",
       "    <tr>\n",
       "      <th>Musical Instruments</th>\n",
       "      <td>2016</td>\n",
       "      <td>228</td>\n",
       "    </tr>\n",
       "    <tr>\n",
       "      <th>Graphic Design</th>\n",
       "      <td>2016</td>\n",
       "      <td>181</td>\n",
       "    </tr>\n",
       "    <tr>\n",
       "      <th>Business Finance</th>\n",
       "      <td>2017</td>\n",
       "      <td>225</td>\n",
       "    </tr>\n",
       "    <tr>\n",
       "      <th>Web Development</th>\n",
       "      <td>2017</td>\n",
       "      <td>223</td>\n",
       "    </tr>\n",
       "    <tr>\n",
       "      <th>Graphic Design</th>\n",
       "      <td>2017</td>\n",
       "      <td>155</td>\n",
       "    </tr>\n",
       "    <tr>\n",
       "      <th>Musical Instruments</th>\n",
       "      <td>2017</td>\n",
       "      <td>112</td>\n",
       "    </tr>\n",
       "  </tbody>\n",
       "</table>\n",
       "</div>"
      ],
      "text/plain": [
       "                     year  subject count\n",
       "subject                                 \n",
       "Web Development      2011              5\n",
       "Web Development      2012             19\n",
       "Graphic Design       2012             10\n",
       "Musical Instruments  2012             10\n",
       "Business Finance     2012              6\n",
       "Business Finance     2013             84\n",
       "Web Development      2013             56\n",
       "Musical Instruments  2013             39\n",
       "Graphic Design       2013             23\n",
       "Business Finance     2014            192\n",
       "Musical Instruments  2014            120\n",
       "Web Development      2014            113\n",
       "Graphic Design       2014             66\n",
       "Business Finance     2015            339\n",
       "Web Development      2015            336\n",
       "Musical Instruments  2015            171\n",
       "Graphic Design       2015            168\n",
       "Web Development      2016            448\n",
       "Business Finance     2016            349\n",
       "Musical Instruments  2016            228\n",
       "Graphic Design       2016            181\n",
       "Business Finance     2017            225\n",
       "Web Development      2017            223\n",
       "Graphic Design       2017            155\n",
       "Musical Instruments  2017            112"
      ]
     },
     "execution_count": 44,
     "metadata": {},
     "output_type": "execute_result"
    }
   ],
   "source": [
    "subject_by_year = df1.groupby('year')['subject'].value_counts().reset_index(level=0).rename(columns = {'subject' : 'subject count'})\n",
    "\n",
    "subject_by_year"
   ]
  },
  {
   "cell_type": "code",
   "execution_count": 45,
   "metadata": {},
   "outputs": [
    {
     "data": {
      "text/html": [
       "<iframe\n",
       "    scrolling=\"no\"\n",
       "    width=\"100%\"\n",
       "    height=\"545px\"\n",
       "    src=\"iframe_figures/figure_45.html\"\n",
       "    frameborder=\"0\"\n",
       "    allowfullscreen\n",
       "></iframe>\n"
      ]
     },
     "metadata": {},
     "output_type": "display_data"
    }
   ],
   "source": [
    "px.line(subject_by_year, x='year', y='subject count', color = subject_by_year.index, title='UDEMY Courses By Subject in Each Year')\n"
   ]
  },
  {
   "cell_type": "raw",
   "metadata": {},
   "source": [
    "web development, graphic design, musical instruments, business finance'ın yıllara göre dağılıma baktığımızda yükselişini görebiliyoruz.\n",
    "\n",
    "Örneğin, business finance sayısı 2012 de 6 iken 2013 te birden 84'e sonraki yıl 192'ye ve daha sonra da 339'a çıkmış. 2016'da 349 ile fazla bir artış gözlemlemiyoruz, bunu doyuma ulaşmış olarak düşünebiliriz. 2017 yılı verileri yarıda kesilmiş, o yılı değerlendirmeye katmak doğru olmaz. "
   ]
  },
  {
   "cell_type": "markdown",
   "metadata": {},
   "source": [
    "### ücretli ve ücretsiz olan kursların top15 lerini görelim. ('course_title','year','subject','num_subscribers' başlıklarına göre ama num_subscribers a göre sıralanacak)"
   ]
  },
  {
   "cell_type": "raw",
   "metadata": {},
   "source": [
    "insanlar merak eder en çok satılan ürün ne, en çok tercih edilen ürün ne?\n",
    "\n",
    "yapacağımız şey filtreleme yöntemlerini kullanmak sonra da grafiğe dökmek "
   ]
  },
  {
   "cell_type": "code",
   "execution_count": 46,
   "metadata": {},
   "outputs": [
    {
     "data": {
      "text/html": [
       "<div>\n",
       "<style scoped>\n",
       "    .dataframe tbody tr th:only-of-type {\n",
       "        vertical-align: middle;\n",
       "    }\n",
       "\n",
       "    .dataframe tbody tr th {\n",
       "        vertical-align: top;\n",
       "    }\n",
       "\n",
       "    .dataframe thead th {\n",
       "        text-align: right;\n",
       "    }\n",
       "</style>\n",
       "<table border=\"1\" class=\"dataframe\">\n",
       "  <thead>\n",
       "    <tr style=\"text-align: right;\">\n",
       "      <th></th>\n",
       "      <th>course_title</th>\n",
       "      <th>year</th>\n",
       "      <th>num_subscribers</th>\n",
       "    </tr>\n",
       "  </thead>\n",
       "  <tbody>\n",
       "    <tr>\n",
       "      <th>0</th>\n",
       "      <td>Ultimate Investment Banking Course</td>\n",
       "      <td>2017</td>\n",
       "      <td>2147</td>\n",
       "    </tr>\n",
       "    <tr>\n",
       "      <th>1</th>\n",
       "      <td>Complete GST Course &amp; Certification - Grow You...</td>\n",
       "      <td>2017</td>\n",
       "      <td>2792</td>\n",
       "    </tr>\n",
       "    <tr>\n",
       "      <th>2</th>\n",
       "      <td>Financial Modeling for Business Analysts and C...</td>\n",
       "      <td>2016</td>\n",
       "      <td>2174</td>\n",
       "    </tr>\n",
       "    <tr>\n",
       "      <th>3</th>\n",
       "      <td>Beginner to Pro - Financial Analysis in Excel ...</td>\n",
       "      <td>2017</td>\n",
       "      <td>2451</td>\n",
       "    </tr>\n",
       "    <tr>\n",
       "      <th>4</th>\n",
       "      <td>How To Maximize Your Profits Trading Options</td>\n",
       "      <td>2016</td>\n",
       "      <td>1276</td>\n",
       "    </tr>\n",
       "    <tr>\n",
       "      <th>...</th>\n",
       "      <td>...</td>\n",
       "      <td>...</td>\n",
       "      <td>...</td>\n",
       "    </tr>\n",
       "    <tr>\n",
       "      <th>3673</th>\n",
       "      <td>Learn jQuery from Scratch - Master of JavaScri...</td>\n",
       "      <td>2016</td>\n",
       "      <td>1040</td>\n",
       "    </tr>\n",
       "    <tr>\n",
       "      <th>3674</th>\n",
       "      <td>How To Design A WordPress Website With No Codi...</td>\n",
       "      <td>2017</td>\n",
       "      <td>306</td>\n",
       "    </tr>\n",
       "    <tr>\n",
       "      <th>3675</th>\n",
       "      <td>Learn and Build using Polymer</td>\n",
       "      <td>2015</td>\n",
       "      <td>513</td>\n",
       "    </tr>\n",
       "    <tr>\n",
       "      <th>3676</th>\n",
       "      <td>CSS Animations: Create Amazing Effects on Your...</td>\n",
       "      <td>2016</td>\n",
       "      <td>300</td>\n",
       "    </tr>\n",
       "    <tr>\n",
       "      <th>3677</th>\n",
       "      <td>Using MODX CMS to Build Websites: A Beginner's...</td>\n",
       "      <td>2014</td>\n",
       "      <td>901</td>\n",
       "    </tr>\n",
       "  </tbody>\n",
       "</table>\n",
       "<p>3368 rows × 3 columns</p>\n",
       "</div>"
      ],
      "text/plain": [
       "                                           course_title  year  num_subscribers\n",
       "0                    Ultimate Investment Banking Course  2017             2147\n",
       "1     Complete GST Course & Certification - Grow You...  2017             2792\n",
       "2     Financial Modeling for Business Analysts and C...  2016             2174\n",
       "3     Beginner to Pro - Financial Analysis in Excel ...  2017             2451\n",
       "4          How To Maximize Your Profits Trading Options  2016             1276\n",
       "...                                                 ...   ...              ...\n",
       "3673  Learn jQuery from Scratch - Master of JavaScri...  2016             1040\n",
       "3674  How To Design A WordPress Website With No Codi...  2017              306\n",
       "3675                      Learn and Build using Polymer  2015              513\n",
       "3676  CSS Animations: Create Amazing Effects on Your...  2016              300\n",
       "3677  Using MODX CMS to Build Websites: A Beginner's...  2014              901\n",
       "\n",
       "[3368 rows x 3 columns]"
      ]
     },
     "execution_count": 46,
     "metadata": {},
     "output_type": "execute_result"
    }
   ],
   "source": [
    "df1[['course_title', 'year', 'num_subscribers']][df1[\"is_paid\"] == True]\n",
    "\n",
    "# df1'in yukardaki 3 columnunu çek ve bunların içinden df1 datasında is_paid == True olanlarını (ücretli kursları) getir. "
   ]
  },
  {
   "cell_type": "code",
   "execution_count": 47,
   "metadata": {},
   "outputs": [
    {
     "data": {
      "text/html": [
       "<div>\n",
       "<style scoped>\n",
       "    .dataframe tbody tr th:only-of-type {\n",
       "        vertical-align: middle;\n",
       "    }\n",
       "\n",
       "    .dataframe tbody tr th {\n",
       "        vertical-align: top;\n",
       "    }\n",
       "\n",
       "    .dataframe thead th {\n",
       "        text-align: right;\n",
       "    }\n",
       "</style>\n",
       "<table border=\"1\" class=\"dataframe\">\n",
       "  <thead>\n",
       "    <tr style=\"text-align: right;\">\n",
       "      <th></th>\n",
       "      <th>course_title</th>\n",
       "      <th>year</th>\n",
       "      <th>num_subscribers</th>\n",
       "    </tr>\n",
       "  </thead>\n",
       "  <tbody>\n",
       "    <tr>\n",
       "      <th>3230</th>\n",
       "      <td>The Web Developer Bootcamp</td>\n",
       "      <td>2015</td>\n",
       "      <td>121584</td>\n",
       "    </tr>\n",
       "    <tr>\n",
       "      <th>3232</th>\n",
       "      <td>The Complete Web Developer Course 2.0</td>\n",
       "      <td>2016</td>\n",
       "      <td>114512</td>\n",
       "    </tr>\n",
       "    <tr>\n",
       "      <th>2619</th>\n",
       "      <td>Learn Javascript &amp; JQuery From Scratch</td>\n",
       "      <td>2013</td>\n",
       "      <td>84897</td>\n",
       "    </tr>\n",
       "    <tr>\n",
       "      <th>3247</th>\n",
       "      <td>JavaScript: Understanding the Weird Parts</td>\n",
       "      <td>2015</td>\n",
       "      <td>79612</td>\n",
       "    </tr>\n",
       "    <tr>\n",
       "      <th>1979</th>\n",
       "      <td>Pianoforall - Incredible New Way To Learn Pian...</td>\n",
       "      <td>2014</td>\n",
       "      <td>75499</td>\n",
       "    </tr>\n",
       "    <tr>\n",
       "      <th>3204</th>\n",
       "      <td>Angular 4 (formerly Angular 2) - The Complete ...</td>\n",
       "      <td>2016</td>\n",
       "      <td>73783</td>\n",
       "    </tr>\n",
       "    <tr>\n",
       "      <th>2701</th>\n",
       "      <td>Become a Web Developer from Scratch</td>\n",
       "      <td>2011</td>\n",
       "      <td>69186</td>\n",
       "    </tr>\n",
       "    <tr>\n",
       "      <th>3246</th>\n",
       "      <td>Learn and Understand AngularJS</td>\n",
       "      <td>2014</td>\n",
       "      <td>59361</td>\n",
       "    </tr>\n",
       "    <tr>\n",
       "      <th>3251</th>\n",
       "      <td>Learn and Understand NodeJS</td>\n",
       "      <td>2015</td>\n",
       "      <td>58208</td>\n",
       "    </tr>\n",
       "    <tr>\n",
       "      <th>2662</th>\n",
       "      <td>The Complete HTML &amp; CSS Course - From Novice T...</td>\n",
       "      <td>2015</td>\n",
       "      <td>57422</td>\n",
       "    </tr>\n",
       "    <tr>\n",
       "      <th>3175</th>\n",
       "      <td>Complete PHP Course With Bootstrap3 CMS System...</td>\n",
       "      <td>2015</td>\n",
       "      <td>55332</td>\n",
       "    </tr>\n",
       "    <tr>\n",
       "      <th>3205</th>\n",
       "      <td>Build Websites from Scratch with HTML &amp; CSS</td>\n",
       "      <td>2013</td>\n",
       "      <td>51257</td>\n",
       "    </tr>\n",
       "    <tr>\n",
       "      <th>3254</th>\n",
       "      <td>Modern React with Redux</td>\n",
       "      <td>2015</td>\n",
       "      <td>50815</td>\n",
       "    </tr>\n",
       "    <tr>\n",
       "      <th>2479</th>\n",
       "      <td>Learning Dynamic Website Design - PHP MySQL an...</td>\n",
       "      <td>2012</td>\n",
       "      <td>47886</td>\n",
       "    </tr>\n",
       "    <tr>\n",
       "      <th>3249</th>\n",
       "      <td>Build Responsive Real World Websites with HTML...</td>\n",
       "      <td>2015</td>\n",
       "      <td>43977</td>\n",
       "    </tr>\n",
       "  </tbody>\n",
       "</table>\n",
       "</div>"
      ],
      "text/plain": [
       "                                           course_title  year  num_subscribers\n",
       "3230                         The Web Developer Bootcamp  2015           121584\n",
       "3232              The Complete Web Developer Course 2.0  2016           114512\n",
       "2619             Learn Javascript & JQuery From Scratch  2013            84897\n",
       "3247          JavaScript: Understanding the Weird Parts  2015            79612\n",
       "1979  Pianoforall - Incredible New Way To Learn Pian...  2014            75499\n",
       "3204  Angular 4 (formerly Angular 2) - The Complete ...  2016            73783\n",
       "2701                Become a Web Developer from Scratch  2011            69186\n",
       "3246                     Learn and Understand AngularJS  2014            59361\n",
       "3251                        Learn and Understand NodeJS  2015            58208\n",
       "2662  The Complete HTML & CSS Course - From Novice T...  2015            57422\n",
       "3175  Complete PHP Course With Bootstrap3 CMS System...  2015            55332\n",
       "3205        Build Websites from Scratch with HTML & CSS  2013            51257\n",
       "3254                            Modern React with Redux  2015            50815\n",
       "2479  Learning Dynamic Website Design - PHP MySQL an...  2012            47886\n",
       "3249  Build Responsive Real World Websites with HTML...  2015            43977"
      ]
     },
     "execution_count": 47,
     "metadata": {},
     "output_type": "execute_result"
    }
   ],
   "source": [
    "df1[['course_title', 'year', 'num_subscribers']][df1[\"is_paid\"] == True].sort_values(by=\"num_subscribers\", ascending = False)[:15]\n",
    "\n",
    "# num_subscribers'ın azalan değerlerine göre sıralayıp ilk 15'ini getir.(yani en revaçtaki 15 ücretli kursu getirdik)"
   ]
  },
  {
   "cell_type": "code",
   "execution_count": 48,
   "metadata": {},
   "outputs": [
    {
     "data": {
      "text/html": [
       "<div>\n",
       "<style scoped>\n",
       "    .dataframe tbody tr th:only-of-type {\n",
       "        vertical-align: middle;\n",
       "    }\n",
       "\n",
       "    .dataframe tbody tr th {\n",
       "        vertical-align: top;\n",
       "    }\n",
       "\n",
       "    .dataframe thead th {\n",
       "        text-align: right;\n",
       "    }\n",
       "</style>\n",
       "<table border=\"1\" class=\"dataframe\">\n",
       "  <thead>\n",
       "    <tr style=\"text-align: right;\">\n",
       "      <th></th>\n",
       "      <th>course_title</th>\n",
       "      <th>year</th>\n",
       "      <th>num_subscribers</th>\n",
       "      <th>subject</th>\n",
       "      <th>price</th>\n",
       "    </tr>\n",
       "  </thead>\n",
       "  <tbody>\n",
       "    <tr>\n",
       "      <th>3230</th>\n",
       "      <td>The Web Developer Bootcamp</td>\n",
       "      <td>2015</td>\n",
       "      <td>121584</td>\n",
       "      <td>Web Development</td>\n",
       "      <td>200</td>\n",
       "    </tr>\n",
       "    <tr>\n",
       "      <th>3232</th>\n",
       "      <td>The Complete Web Developer Course 2.0</td>\n",
       "      <td>2016</td>\n",
       "      <td>114512</td>\n",
       "      <td>Web Development</td>\n",
       "      <td>200</td>\n",
       "    </tr>\n",
       "    <tr>\n",
       "      <th>2619</th>\n",
       "      <td>Learn Javascript &amp; JQuery From Scratch</td>\n",
       "      <td>2013</td>\n",
       "      <td>84897</td>\n",
       "      <td>Web Development</td>\n",
       "      <td>30</td>\n",
       "    </tr>\n",
       "    <tr>\n",
       "      <th>3247</th>\n",
       "      <td>JavaScript: Understanding the Weird Parts</td>\n",
       "      <td>2015</td>\n",
       "      <td>79612</td>\n",
       "      <td>Web Development</td>\n",
       "      <td>175</td>\n",
       "    </tr>\n",
       "    <tr>\n",
       "      <th>1979</th>\n",
       "      <td>Pianoforall - Incredible New Way To Learn Pian...</td>\n",
       "      <td>2014</td>\n",
       "      <td>75499</td>\n",
       "      <td>Musical Instruments</td>\n",
       "      <td>200</td>\n",
       "    </tr>\n",
       "    <tr>\n",
       "      <th>3204</th>\n",
       "      <td>Angular 4 (formerly Angular 2) - The Complete ...</td>\n",
       "      <td>2016</td>\n",
       "      <td>73783</td>\n",
       "      <td>Web Development</td>\n",
       "      <td>190</td>\n",
       "    </tr>\n",
       "    <tr>\n",
       "      <th>2701</th>\n",
       "      <td>Become a Web Developer from Scratch</td>\n",
       "      <td>2011</td>\n",
       "      <td>69186</td>\n",
       "      <td>Web Development</td>\n",
       "      <td>120</td>\n",
       "    </tr>\n",
       "    <tr>\n",
       "      <th>3246</th>\n",
       "      <td>Learn and Understand AngularJS</td>\n",
       "      <td>2014</td>\n",
       "      <td>59361</td>\n",
       "      <td>Web Development</td>\n",
       "      <td>175</td>\n",
       "    </tr>\n",
       "    <tr>\n",
       "      <th>3251</th>\n",
       "      <td>Learn and Understand NodeJS</td>\n",
       "      <td>2015</td>\n",
       "      <td>58208</td>\n",
       "      <td>Web Development</td>\n",
       "      <td>195</td>\n",
       "    </tr>\n",
       "    <tr>\n",
       "      <th>2662</th>\n",
       "      <td>The Complete HTML &amp; CSS Course - From Novice T...</td>\n",
       "      <td>2015</td>\n",
       "      <td>57422</td>\n",
       "      <td>Web Development</td>\n",
       "      <td>195</td>\n",
       "    </tr>\n",
       "    <tr>\n",
       "      <th>3175</th>\n",
       "      <td>Complete PHP Course With Bootstrap3 CMS System...</td>\n",
       "      <td>2015</td>\n",
       "      <td>55332</td>\n",
       "      <td>Web Development</td>\n",
       "      <td>195</td>\n",
       "    </tr>\n",
       "    <tr>\n",
       "      <th>3205</th>\n",
       "      <td>Build Websites from Scratch with HTML &amp; CSS</td>\n",
       "      <td>2013</td>\n",
       "      <td>51257</td>\n",
       "      <td>Web Development</td>\n",
       "      <td>145</td>\n",
       "    </tr>\n",
       "    <tr>\n",
       "      <th>3254</th>\n",
       "      <td>Modern React with Redux</td>\n",
       "      <td>2015</td>\n",
       "      <td>50815</td>\n",
       "      <td>Web Development</td>\n",
       "      <td>180</td>\n",
       "    </tr>\n",
       "    <tr>\n",
       "      <th>2479</th>\n",
       "      <td>Learning Dynamic Website Design - PHP MySQL an...</td>\n",
       "      <td>2012</td>\n",
       "      <td>47886</td>\n",
       "      <td>Web Development</td>\n",
       "      <td>50</td>\n",
       "    </tr>\n",
       "    <tr>\n",
       "      <th>3249</th>\n",
       "      <td>Build Responsive Real World Websites with HTML...</td>\n",
       "      <td>2015</td>\n",
       "      <td>43977</td>\n",
       "      <td>Web Development</td>\n",
       "      <td>195</td>\n",
       "    </tr>\n",
       "  </tbody>\n",
       "</table>\n",
       "</div>"
      ],
      "text/plain": [
       "                                           course_title  year  \\\n",
       "3230                         The Web Developer Bootcamp  2015   \n",
       "3232              The Complete Web Developer Course 2.0  2016   \n",
       "2619             Learn Javascript & JQuery From Scratch  2013   \n",
       "3247          JavaScript: Understanding the Weird Parts  2015   \n",
       "1979  Pianoforall - Incredible New Way To Learn Pian...  2014   \n",
       "3204  Angular 4 (formerly Angular 2) - The Complete ...  2016   \n",
       "2701                Become a Web Developer from Scratch  2011   \n",
       "3246                     Learn and Understand AngularJS  2014   \n",
       "3251                        Learn and Understand NodeJS  2015   \n",
       "2662  The Complete HTML & CSS Course - From Novice T...  2015   \n",
       "3175  Complete PHP Course With Bootstrap3 CMS System...  2015   \n",
       "3205        Build Websites from Scratch with HTML & CSS  2013   \n",
       "3254                            Modern React with Redux  2015   \n",
       "2479  Learning Dynamic Website Design - PHP MySQL an...  2012   \n",
       "3249  Build Responsive Real World Websites with HTML...  2015   \n",
       "\n",
       "      num_subscribers              subject  price  \n",
       "3230           121584      Web Development    200  \n",
       "3232           114512      Web Development    200  \n",
       "2619            84897      Web Development     30  \n",
       "3247            79612      Web Development    175  \n",
       "1979            75499  Musical Instruments    200  \n",
       "3204            73783      Web Development    190  \n",
       "2701            69186      Web Development    120  \n",
       "3246            59361      Web Development    175  \n",
       "3251            58208      Web Development    195  \n",
       "2662            57422      Web Development    195  \n",
       "3175            55332      Web Development    195  \n",
       "3205            51257      Web Development    145  \n",
       "3254            50815      Web Development    180  \n",
       "2479            47886      Web Development     50  \n",
       "3249            43977      Web Development    195  "
      ]
     },
     "execution_count": 48,
     "metadata": {},
     "output_type": "execute_result"
    }
   ],
   "source": [
    "# şimdi bu sütunlara subject ve price sütunlarını da ekleyip yorumlayalım\n",
    "\n",
    "top_15_paid_courses = df1[['course_title', 'year', 'num_subscribers', 'subject', 'price']][df1[\"is_paid\"] == True].sort_values(by=\"num_subscribers\", ascending = False)[:15]\n",
    "top_15_paid_courses"
   ]
  },
  {
   "cell_type": "code",
   "execution_count": 49,
   "metadata": {},
   "outputs": [
    {
     "data": {
      "text/html": [
       "<div>\n",
       "<style scoped>\n",
       "    .dataframe tbody tr th:only-of-type {\n",
       "        vertical-align: middle;\n",
       "    }\n",
       "\n",
       "    .dataframe tbody tr th {\n",
       "        vertical-align: top;\n",
       "    }\n",
       "\n",
       "    .dataframe thead th {\n",
       "        text-align: right;\n",
       "    }\n",
       "</style>\n",
       "<table border=\"1\" class=\"dataframe\">\n",
       "  <thead>\n",
       "    <tr style=\"text-align: right;\">\n",
       "      <th></th>\n",
       "      <th>course_title</th>\n",
       "      <th>year</th>\n",
       "      <th>num_subscribers</th>\n",
       "      <th>subject</th>\n",
       "      <th>price</th>\n",
       "    </tr>\n",
       "  </thead>\n",
       "  <tbody>\n",
       "    <tr>\n",
       "      <th>3230</th>\n",
       "      <td>The Web Developer Bootcamp</td>\n",
       "      <td>2015</td>\n",
       "      <td>121584</td>\n",
       "      <td>Web Development</td>\n",
       "      <td>200</td>\n",
       "    </tr>\n",
       "    <tr>\n",
       "      <th>3232</th>\n",
       "      <td>The Complete Web Developer Course 2.0</td>\n",
       "      <td>2016</td>\n",
       "      <td>114512</td>\n",
       "      <td>Web Development</td>\n",
       "      <td>200</td>\n",
       "    </tr>\n",
       "    <tr>\n",
       "      <th>2619</th>\n",
       "      <td>Learn Javascript &amp; JQuery From Scratch</td>\n",
       "      <td>2013</td>\n",
       "      <td>84897</td>\n",
       "      <td>Web Development</td>\n",
       "      <td>30</td>\n",
       "    </tr>\n",
       "    <tr>\n",
       "      <th>3247</th>\n",
       "      <td>JavaScript: Understanding the Weird Parts</td>\n",
       "      <td>2015</td>\n",
       "      <td>79612</td>\n",
       "      <td>Web Development</td>\n",
       "      <td>175</td>\n",
       "    </tr>\n",
       "    <tr>\n",
       "      <th>1979</th>\n",
       "      <td>Pianoforall - Incredible New Way To Learn Pian...</td>\n",
       "      <td>2014</td>\n",
       "      <td>75499</td>\n",
       "      <td>Musical Instruments</td>\n",
       "      <td>200</td>\n",
       "    </tr>\n",
       "    <tr>\n",
       "      <th>3204</th>\n",
       "      <td>Angular 4 (formerly Angular 2) - The Complete ...</td>\n",
       "      <td>2016</td>\n",
       "      <td>73783</td>\n",
       "      <td>Web Development</td>\n",
       "      <td>190</td>\n",
       "    </tr>\n",
       "    <tr>\n",
       "      <th>2701</th>\n",
       "      <td>Become a Web Developer from Scratch</td>\n",
       "      <td>2011</td>\n",
       "      <td>69186</td>\n",
       "      <td>Web Development</td>\n",
       "      <td>120</td>\n",
       "    </tr>\n",
       "    <tr>\n",
       "      <th>3246</th>\n",
       "      <td>Learn and Understand AngularJS</td>\n",
       "      <td>2014</td>\n",
       "      <td>59361</td>\n",
       "      <td>Web Development</td>\n",
       "      <td>175</td>\n",
       "    </tr>\n",
       "    <tr>\n",
       "      <th>3251</th>\n",
       "      <td>Learn and Understand NodeJS</td>\n",
       "      <td>2015</td>\n",
       "      <td>58208</td>\n",
       "      <td>Web Development</td>\n",
       "      <td>195</td>\n",
       "    </tr>\n",
       "    <tr>\n",
       "      <th>2662</th>\n",
       "      <td>The Complete HTML &amp; CSS Course - From Novice T...</td>\n",
       "      <td>2015</td>\n",
       "      <td>57422</td>\n",
       "      <td>Web Development</td>\n",
       "      <td>195</td>\n",
       "    </tr>\n",
       "    <tr>\n",
       "      <th>3175</th>\n",
       "      <td>Complete PHP Course With Bootstrap3 CMS System...</td>\n",
       "      <td>2015</td>\n",
       "      <td>55332</td>\n",
       "      <td>Web Development</td>\n",
       "      <td>195</td>\n",
       "    </tr>\n",
       "    <tr>\n",
       "      <th>3205</th>\n",
       "      <td>Build Websites from Scratch with HTML &amp; CSS</td>\n",
       "      <td>2013</td>\n",
       "      <td>51257</td>\n",
       "      <td>Web Development</td>\n",
       "      <td>145</td>\n",
       "    </tr>\n",
       "    <tr>\n",
       "      <th>3254</th>\n",
       "      <td>Modern React with Redux</td>\n",
       "      <td>2015</td>\n",
       "      <td>50815</td>\n",
       "      <td>Web Development</td>\n",
       "      <td>180</td>\n",
       "    </tr>\n",
       "    <tr>\n",
       "      <th>2479</th>\n",
       "      <td>Learning Dynamic Website Design - PHP MySQL an...</td>\n",
       "      <td>2012</td>\n",
       "      <td>47886</td>\n",
       "      <td>Web Development</td>\n",
       "      <td>50</td>\n",
       "    </tr>\n",
       "    <tr>\n",
       "      <th>3249</th>\n",
       "      <td>Build Responsive Real World Websites with HTML...</td>\n",
       "      <td>2015</td>\n",
       "      <td>43977</td>\n",
       "      <td>Web Development</td>\n",
       "      <td>195</td>\n",
       "    </tr>\n",
       "  </tbody>\n",
       "</table>\n",
       "</div>"
      ],
      "text/plain": [
       "                                           course_title  year  \\\n",
       "3230                         The Web Developer Bootcamp  2015   \n",
       "3232              The Complete Web Developer Course 2.0  2016   \n",
       "2619             Learn Javascript & JQuery From Scratch  2013   \n",
       "3247          JavaScript: Understanding the Weird Parts  2015   \n",
       "1979  Pianoforall - Incredible New Way To Learn Pian...  2014   \n",
       "3204  Angular 4 (formerly Angular 2) - The Complete ...  2016   \n",
       "2701                Become a Web Developer from Scratch  2011   \n",
       "3246                     Learn and Understand AngularJS  2014   \n",
       "3251                        Learn and Understand NodeJS  2015   \n",
       "2662  The Complete HTML & CSS Course - From Novice T...  2015   \n",
       "3175  Complete PHP Course With Bootstrap3 CMS System...  2015   \n",
       "3205        Build Websites from Scratch with HTML & CSS  2013   \n",
       "3254                            Modern React with Redux  2015   \n",
       "2479  Learning Dynamic Website Design - PHP MySQL an...  2012   \n",
       "3249  Build Responsive Real World Websites with HTML...  2015   \n",
       "\n",
       "      num_subscribers              subject  price  \n",
       "3230           121584      Web Development    200  \n",
       "3232           114512      Web Development    200  \n",
       "2619            84897      Web Development     30  \n",
       "3247            79612      Web Development    175  \n",
       "1979            75499  Musical Instruments    200  \n",
       "3204            73783      Web Development    190  \n",
       "2701            69186      Web Development    120  \n",
       "3246            59361      Web Development    175  \n",
       "3251            58208      Web Development    195  \n",
       "2662            57422      Web Development    195  \n",
       "3175            55332      Web Development    195  \n",
       "3205            51257      Web Development    145  \n",
       "3254            50815      Web Development    180  \n",
       "2479            47886      Web Development     50  \n",
       "3249            43977      Web Development    195  "
      ]
     },
     "execution_count": 49,
     "metadata": {},
     "output_type": "execute_result"
    }
   ],
   "source": [
    "# alternatif kod: \n",
    "top_15_paid_courses = df1[df1['price'] != 0][['course_title', 'year', 'num_subscribers', 'subject', 'price']].sort_values(by='num_subscribers', ascending = False)[:15]\n",
    "\n",
    "top_15_paid_courses "
   ]
  },
  {
   "cell_type": "raw",
   "metadata": {},
   "source": [
    "ücretli en çok tercih edilen ilk 15 kurs içerisinde Web Development'in ağırlıklı olarak rağbet gördüğü, \n",
    "ayrıca price lara baktığımızda yüksek ücretli kursların tercih edildiğini,\n",
    "ayrıca dikkat çekici bir husus olarak da musical instruments kursunun ilk 15'e girdiğini görüyoruz"
   ]
  },
  {
   "cell_type": "code",
   "execution_count": 50,
   "metadata": {},
   "outputs": [
    {
     "data": {
      "text/html": [
       "<iframe\n",
       "    scrolling=\"no\"\n",
       "    width=\"100%\"\n",
       "    height=\"545px\"\n",
       "    src=\"iframe_figures/figure_50.html\"\n",
       "    frameborder=\"0\"\n",
       "    allowfullscreen\n",
       "></iframe>\n"
      ]
     },
     "metadata": {},
     "output_type": "display_data"
    }
   ],
   "source": [
    "fig=px.bar(top_15_paid_courses, y='num_subscribers', x = 'course_title', hover_data = top_15_paid_courses[['year', 'subject', 'price']])\n",
    "fig.update_layout(xaxis={'categoryorder': 'total descending'})\n",
    "fig.show()"
   ]
  },
  {
   "cell_type": "code",
   "execution_count": 51,
   "metadata": {},
   "outputs": [
    {
     "data": {
      "text/html": [
       "<div>\n",
       "<style scoped>\n",
       "    .dataframe tbody tr th:only-of-type {\n",
       "        vertical-align: middle;\n",
       "    }\n",
       "\n",
       "    .dataframe tbody tr th {\n",
       "        vertical-align: top;\n",
       "    }\n",
       "\n",
       "    .dataframe thead th {\n",
       "        text-align: right;\n",
       "    }\n",
       "</style>\n",
       "<table border=\"1\" class=\"dataframe\">\n",
       "  <thead>\n",
       "    <tr style=\"text-align: right;\">\n",
       "      <th></th>\n",
       "      <th>course_title</th>\n",
       "      <th>year</th>\n",
       "      <th>num_subscribers</th>\n",
       "      <th>subject</th>\n",
       "    </tr>\n",
       "  </thead>\n",
       "  <tbody>\n",
       "    <tr>\n",
       "      <th>2827</th>\n",
       "      <td>Learn HTML5 Programming From Scratch</td>\n",
       "      <td>2013</td>\n",
       "      <td>268923</td>\n",
       "      <td>Web Development</td>\n",
       "    </tr>\n",
       "    <tr>\n",
       "      <th>3032</th>\n",
       "      <td>Coding for Entrepreneurs Basic</td>\n",
       "      <td>2013</td>\n",
       "      <td>161029</td>\n",
       "      <td>Web Development</td>\n",
       "    </tr>\n",
       "    <tr>\n",
       "      <th>2783</th>\n",
       "      <td>Build Your First Website in 1 Week with HTML5 ...</td>\n",
       "      <td>2014</td>\n",
       "      <td>120291</td>\n",
       "      <td>Web Development</td>\n",
       "    </tr>\n",
       "    <tr>\n",
       "      <th>1896</th>\n",
       "      <td>Free Beginner Electric Guitar Lessons</td>\n",
       "      <td>2012</td>\n",
       "      <td>101154</td>\n",
       "      <td>Musical Instruments</td>\n",
       "    </tr>\n",
       "    <tr>\n",
       "      <th>2589</th>\n",
       "      <td>Web Design for Web Developers: Build Beautiful...</td>\n",
       "      <td>2015</td>\n",
       "      <td>98867</td>\n",
       "      <td>Web Development</td>\n",
       "    </tr>\n",
       "    <tr>\n",
       "      <th>3289</th>\n",
       "      <td>Practical PHP: Master the Basics and Code Dyna...</td>\n",
       "      <td>2014</td>\n",
       "      <td>83737</td>\n",
       "      <td>Web Development</td>\n",
       "    </tr>\n",
       "    <tr>\n",
       "      <th>3665</th>\n",
       "      <td>Beginner Photoshop to HTML5 and CSS3</td>\n",
       "      <td>2012</td>\n",
       "      <td>73110</td>\n",
       "      <td>Web Development</td>\n",
       "    </tr>\n",
       "    <tr>\n",
       "      <th>2782</th>\n",
       "      <td>Web Development By Doing: HTML / CSS From Scratch</td>\n",
       "      <td>2013</td>\n",
       "      <td>72932</td>\n",
       "      <td>Web Development</td>\n",
       "    </tr>\n",
       "    <tr>\n",
       "      <th>3325</th>\n",
       "      <td>HTML and CSS for Beginners - Build a Website &amp;...</td>\n",
       "      <td>2015</td>\n",
       "      <td>70773</td>\n",
       "      <td>Web Development</td>\n",
       "    </tr>\n",
       "    <tr>\n",
       "      <th>492</th>\n",
       "      <td>Bitcoin or How I Learned to Stop Worrying and ...</td>\n",
       "      <td>2013</td>\n",
       "      <td>65576</td>\n",
       "      <td>Business Finance</td>\n",
       "    </tr>\n",
       "    <tr>\n",
       "      <th>2592</th>\n",
       "      <td>Quickstart AngularJS</td>\n",
       "      <td>2014</td>\n",
       "      <td>64128</td>\n",
       "      <td>Web Development</td>\n",
       "    </tr>\n",
       "    <tr>\n",
       "      <th>3219</th>\n",
       "      <td>Learn Responsive Web Development from Scratch</td>\n",
       "      <td>2013</td>\n",
       "      <td>59639</td>\n",
       "      <td>Web Development</td>\n",
       "    </tr>\n",
       "    <tr>\n",
       "      <th>143</th>\n",
       "      <td>Accounting in 60 Minutes - A Brief Introduction</td>\n",
       "      <td>2013</td>\n",
       "      <td>56659</td>\n",
       "      <td>Business Finance</td>\n",
       "    </tr>\n",
       "    <tr>\n",
       "      <th>1461</th>\n",
       "      <td>Photoshop In-Depth: Master all of Photoshop's ...</td>\n",
       "      <td>2014</td>\n",
       "      <td>53851</td>\n",
       "      <td>Graphic Design</td>\n",
       "    </tr>\n",
       "    <tr>\n",
       "      <th>103</th>\n",
       "      <td>Stock Market Investing for Beginners</td>\n",
       "      <td>2013</td>\n",
       "      <td>50855</td>\n",
       "      <td>Business Finance</td>\n",
       "    </tr>\n",
       "  </tbody>\n",
       "</table>\n",
       "</div>"
      ],
      "text/plain": [
       "                                           course_title  year  \\\n",
       "2827               Learn HTML5 Programming From Scratch  2013   \n",
       "3032                     Coding for Entrepreneurs Basic  2013   \n",
       "2783  Build Your First Website in 1 Week with HTML5 ...  2014   \n",
       "1896              Free Beginner Electric Guitar Lessons  2012   \n",
       "2589  Web Design for Web Developers: Build Beautiful...  2015   \n",
       "3289  Practical PHP: Master the Basics and Code Dyna...  2014   \n",
       "3665               Beginner Photoshop to HTML5 and CSS3  2012   \n",
       "2782  Web Development By Doing: HTML / CSS From Scratch  2013   \n",
       "3325  HTML and CSS for Beginners - Build a Website &...  2015   \n",
       "492   Bitcoin or How I Learned to Stop Worrying and ...  2013   \n",
       "2592                               Quickstart AngularJS  2014   \n",
       "3219      Learn Responsive Web Development from Scratch  2013   \n",
       "143     Accounting in 60 Minutes - A Brief Introduction  2013   \n",
       "1461  Photoshop In-Depth: Master all of Photoshop's ...  2014   \n",
       "103                Stock Market Investing for Beginners  2013   \n",
       "\n",
       "      num_subscribers              subject  \n",
       "2827           268923      Web Development  \n",
       "3032           161029      Web Development  \n",
       "2783           120291      Web Development  \n",
       "1896           101154  Musical Instruments  \n",
       "2589            98867      Web Development  \n",
       "3289            83737      Web Development  \n",
       "3665            73110      Web Development  \n",
       "2782            72932      Web Development  \n",
       "3325            70773      Web Development  \n",
       "492             65576     Business Finance  \n",
       "2592            64128      Web Development  \n",
       "3219            59639      Web Development  \n",
       "143             56659     Business Finance  \n",
       "1461            53851       Graphic Design  \n",
       "103             50855     Business Finance  "
      ]
     },
     "execution_count": 51,
     "metadata": {},
     "output_type": "execute_result"
    }
   ],
   "source": [
    "top_15_free_courses = df1[df1['price'] == 0][['course_title', 'year', 'num_subscribers', 'subject']].sort_values(by='num_subscribers', ascending = False)[:15]\n",
    "\n",
    "top_15_free_courses"
   ]
  },
  {
   "cell_type": "raw",
   "metadata": {},
   "source": [
    "ilk 15 teki ücretsiz kurslara katılımın ücretli kurslara katılımın iki katı olduğunu ve yine Web DEvelopment konulu kursların ilk 15 te büyük ağırlıklı olarak yer aldığını görüyoruz. Musical Instrument kursu da yine ilk 15 te yer bulmuş. "
   ]
  }
 ],
 "metadata": {
  "kernelspec": {
   "display_name": "Python 3",
   "language": "python",
   "name": "python3"
  },
  "language_info": {
   "codemirror_mode": {
    "name": "ipython",
    "version": 3
   },
   "file_extension": ".py",
   "mimetype": "text/x-python",
   "name": "python",
   "nbconvert_exporter": "python",
   "pygments_lexer": "ipython3",
   "version": "3.8.5"
  }
 },
 "nbformat": 4,
 "nbformat_minor": 5
}
