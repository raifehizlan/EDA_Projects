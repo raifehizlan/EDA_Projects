{
 "cells": [
  {
   "cell_type": "code",
   "execution_count": 1,
   "metadata": {},
   "outputs": [],
   "source": [
    "import pandas as pd\n",
    "import numpy as np\n",
    "import matplotlib.pyplot as plt\n",
    "import seaborn as sns"
   ]
  },
  {
   "cell_type": "code",
   "execution_count": 2,
   "metadata": {},
   "outputs": [],
   "source": [
    "data = pd.read_csv(\"gss_assignment2_data.csv\")"
   ]
  },
  {
   "cell_type": "code",
   "execution_count": 3,
   "metadata": {},
   "outputs": [
    {
     "data": {
      "text/html": [
       "<div>\n",
       "<style scoped>\n",
       "    .dataframe tbody tr th:only-of-type {\n",
       "        vertical-align: middle;\n",
       "    }\n",
       "\n",
       "    .dataframe tbody tr th {\n",
       "        vertical-align: top;\n",
       "    }\n",
       "\n",
       "    .dataframe thead th {\n",
       "        text-align: right;\n",
       "    }\n",
       "</style>\n",
       "<table border=\"1\" class=\"dataframe\">\n",
       "  <thead>\n",
       "    <tr style=\"text-align: right;\">\n",
       "      <th></th>\n",
       "      <th>Responder_id</th>\n",
       "      <th>LanguagesWorkedWith</th>\n",
       "    </tr>\n",
       "  </thead>\n",
       "  <tbody>\n",
       "    <tr>\n",
       "      <th>0</th>\n",
       "      <td>1</td>\n",
       "      <td>HTML/CSS;Java;JavaScript;Python</td>\n",
       "    </tr>\n",
       "    <tr>\n",
       "      <th>1</th>\n",
       "      <td>2</td>\n",
       "      <td>C++;HTML/CSS;Python</td>\n",
       "    </tr>\n",
       "    <tr>\n",
       "      <th>2</th>\n",
       "      <td>3</td>\n",
       "      <td>HTML/CSS</td>\n",
       "    </tr>\n",
       "    <tr>\n",
       "      <th>3</th>\n",
       "      <td>4</td>\n",
       "      <td>C;C++;C#;Python;SQL</td>\n",
       "    </tr>\n",
       "    <tr>\n",
       "      <th>4</th>\n",
       "      <td>5</td>\n",
       "      <td>C++;HTML/CSS;Java;JavaScript;Python;SQL;VBA</td>\n",
       "    </tr>\n",
       "    <tr>\n",
       "      <th>...</th>\n",
       "      <td>...</td>\n",
       "      <td>...</td>\n",
       "    </tr>\n",
       "    <tr>\n",
       "      <th>87564</th>\n",
       "      <td>88182</td>\n",
       "      <td>HTML/CSS;Java;JavaScript</td>\n",
       "    </tr>\n",
       "    <tr>\n",
       "      <th>87565</th>\n",
       "      <td>88212</td>\n",
       "      <td>HTML/CSS;JavaScript;Python</td>\n",
       "    </tr>\n",
       "    <tr>\n",
       "      <th>87566</th>\n",
       "      <td>88282</td>\n",
       "      <td>Bash/Shell/PowerShell;Go;HTML/CSS;JavaScript;W...</td>\n",
       "    </tr>\n",
       "    <tr>\n",
       "      <th>87567</th>\n",
       "      <td>88377</td>\n",
       "      <td>HTML/CSS;JavaScript;Other(s):</td>\n",
       "    </tr>\n",
       "    <tr>\n",
       "      <th>87568</th>\n",
       "      <td>88863</td>\n",
       "      <td>Bash/Shell/PowerShell;HTML/CSS;Java;JavaScript...</td>\n",
       "    </tr>\n",
       "  </tbody>\n",
       "</table>\n",
       "<p>87569 rows × 2 columns</p>\n",
       "</div>"
      ],
      "text/plain": [
       "       Responder_id                                LanguagesWorkedWith\n",
       "0                 1                    HTML/CSS;Java;JavaScript;Python\n",
       "1                 2                                C++;HTML/CSS;Python\n",
       "2                 3                                           HTML/CSS\n",
       "3                 4                                C;C++;C#;Python;SQL\n",
       "4                 5        C++;HTML/CSS;Java;JavaScript;Python;SQL;VBA\n",
       "...             ...                                                ...\n",
       "87564         88182                           HTML/CSS;Java;JavaScript\n",
       "87565         88212                         HTML/CSS;JavaScript;Python\n",
       "87566         88282  Bash/Shell/PowerShell;Go;HTML/CSS;JavaScript;W...\n",
       "87567         88377                      HTML/CSS;JavaScript;Other(s):\n",
       "87568         88863  Bash/Shell/PowerShell;HTML/CSS;Java;JavaScript...\n",
       "\n",
       "[87569 rows x 2 columns]"
      ]
     },
     "execution_count": 3,
     "metadata": {},
     "output_type": "execute_result"
    }
   ],
   "source": [
    "data"
   ]
  },
  {
   "cell_type": "code",
   "execution_count": 4,
   "metadata": {},
   "outputs": [
    {
     "data": {
      "text/html": [
       "<div>\n",
       "<style scoped>\n",
       "    .dataframe tbody tr th:only-of-type {\n",
       "        vertical-align: middle;\n",
       "    }\n",
       "\n",
       "    .dataframe tbody tr th {\n",
       "        vertical-align: top;\n",
       "    }\n",
       "\n",
       "    .dataframe thead th {\n",
       "        text-align: right;\n",
       "    }\n",
       "</style>\n",
       "<table border=\"1\" class=\"dataframe\">\n",
       "  <thead>\n",
       "    <tr style=\"text-align: right;\">\n",
       "      <th></th>\n",
       "      <th>Responder_id</th>\n",
       "      <th>LanguagesWorkedWith</th>\n",
       "    </tr>\n",
       "  </thead>\n",
       "  <tbody>\n",
       "    <tr>\n",
       "      <th>0</th>\n",
       "      <td>1</td>\n",
       "      <td>HTML/CSS;Java;JavaScript;Python</td>\n",
       "    </tr>\n",
       "    <tr>\n",
       "      <th>1</th>\n",
       "      <td>2</td>\n",
       "      <td>C++;HTML/CSS;Python</td>\n",
       "    </tr>\n",
       "    <tr>\n",
       "      <th>2</th>\n",
       "      <td>3</td>\n",
       "      <td>HTML/CSS</td>\n",
       "    </tr>\n",
       "    <tr>\n",
       "      <th>3</th>\n",
       "      <td>4</td>\n",
       "      <td>C;C++;C#;Python;SQL</td>\n",
       "    </tr>\n",
       "    <tr>\n",
       "      <th>4</th>\n",
       "      <td>5</td>\n",
       "      <td>C++;HTML/CSS;Java;JavaScript;Python;SQL;VBA</td>\n",
       "    </tr>\n",
       "  </tbody>\n",
       "</table>\n",
       "</div>"
      ],
      "text/plain": [
       "   Responder_id                          LanguagesWorkedWith\n",
       "0             1              HTML/CSS;Java;JavaScript;Python\n",
       "1             2                          C++;HTML/CSS;Python\n",
       "2             3                                     HTML/CSS\n",
       "3             4                          C;C++;C#;Python;SQL\n",
       "4             5  C++;HTML/CSS;Java;JavaScript;Python;SQL;VBA"
      ]
     },
     "execution_count": 4,
     "metadata": {},
     "output_type": "execute_result"
    }
   ],
   "source": [
    "data.head()"
   ]
  },
  {
   "cell_type": "code",
   "execution_count": 5,
   "metadata": {},
   "outputs": [
    {
     "data": {
      "text/plain": [
       "0                     [HTML/CSS, Java, JavaScript, Python]\n",
       "1                                  [C++, HTML/CSS, Python]\n",
       "2                                               [HTML/CSS]\n",
       "3                                [C, C++, C#, Python, SQL]\n",
       "4        [C++, HTML/CSS, Java, JavaScript, Python, SQL,...\n",
       "                               ...                        \n",
       "87564                         [HTML/CSS, Java, JavaScript]\n",
       "87565                       [HTML/CSS, JavaScript, Python]\n",
       "87566    [Bash/Shell/PowerShell, Go, HTML/CSS, JavaScri...\n",
       "87567                    [HTML/CSS, JavaScript, Other(s):]\n",
       "87568    [Bash/Shell/PowerShell, HTML/CSS, Java, JavaSc...\n",
       "Name: LanguagesWorkedWith, Length: 87569, dtype: object"
      ]
     },
     "execution_count": 5,
     "metadata": {},
     "output_type": "execute_result"
    }
   ],
   "source": [
    "diller = data.LanguagesWorkedWith.str.split(\";\")\n",
    "diller\n",
    "# her bir satırda yer alan farklı dilleri işleme alabilmek için\n",
    "# seperator ile her bir dili liste elemanı yaptık. "
   ]
  },
  {
   "cell_type": "code",
   "execution_count": 6,
   "metadata": {},
   "outputs": [],
   "source": [
    "# 87568 satırda yer alan ve her biri liste olan her bir satırdaki listelerde yer alan dilleri\n",
    "# unique hale getirdik\n",
    "unique = set([j for i in diller for j in i])"
   ]
  },
  {
   "cell_type": "code",
   "execution_count": 7,
   "metadata": {
    "scrolled": true
   },
   "outputs": [
    {
     "data": {
      "text/plain": [
       "['Ruby',\n",
       " 'Elixir',\n",
       " 'SQL',\n",
       " 'Scala',\n",
       " 'Clojure',\n",
       " 'TypeScript',\n",
       " 'C',\n",
       " 'JavaScript',\n",
       " 'Java',\n",
       " 'Objective-C',\n",
       " 'F#',\n",
       " 'VBA',\n",
       " 'C#',\n",
       " 'C++',\n",
       " 'Dart',\n",
       " 'WebAssembly',\n",
       " 'Python',\n",
       " 'Go',\n",
       " 'Other(s):',\n",
       " 'Assembly',\n",
       " 'Swift',\n",
       " 'R',\n",
       " 'Erlang',\n",
       " 'Bash/Shell/PowerShell',\n",
       " 'Kotlin',\n",
       " 'Rust',\n",
       " 'HTML/CSS',\n",
       " 'PHP']"
      ]
     },
     "execution_count": 7,
     "metadata": {},
     "output_type": "execute_result"
    }
   ],
   "source": [
    "unique = list(unique)\n",
    "unique"
   ]
  },
  {
   "cell_type": "code",
   "execution_count": 8,
   "metadata": {},
   "outputs": [],
   "source": [
    "# sebebini bilmediğim bir neden ötürü \"C++\" str.contains(\"C++\") içinde hata veriyor.\n",
    "#çözüm sağlandı. \"c++\" ifadesini regex olarak tanıdığı için hata veriyor. regex = False\n",
    "# ile bu sorunu çözmüş olduk. "
   ]
  },
  {
   "cell_type": "code",
   "execution_count": 9,
   "metadata": {},
   "outputs": [
    {
     "name": "stdout",
     "output_type": "stream",
     "text": [
      "7331\n",
      "1260\n",
      "47544\n",
      "3309\n",
      "1254\n",
      "18523\n",
      "71988\n",
      "59219\n",
      "70113\n",
      "4191\n",
      "973\n",
      "4781\n",
      "27097\n",
      "20524\n",
      "1683\n",
      "1015\n",
      "36443\n",
      "7201\n",
      "7920\n",
      "6547\n",
      "5744\n",
      "13947\n",
      "777\n",
      "31991\n",
      "5620\n",
      "2794\n",
      "55466\n",
      "23030\n"
     ]
    }
   ],
   "source": [
    "for i in unique:\n",
    "    print(data.LanguagesWorkedWith.str.contains(i, regex=False).sum())\n",
    "#her bir programlama dilinin kaç defa geçtiğini görmüş olduk. "
   ]
  },
  {
   "cell_type": "code",
   "execution_count": 10,
   "metadata": {},
   "outputs": [],
   "source": [
    "# programlama dillerinin sayılarından ve isimlerinden Series oluşturalım"
   ]
  },
  {
   "cell_type": "code",
   "execution_count": 11,
   "metadata": {},
   "outputs": [],
   "source": [
    "unique_dict = {i: data.LanguagesWorkedWith.str.contains(i, regex=False).sum() for i in unique}\n",
    "#dict oluşturduk"
   ]
  },
  {
   "cell_type": "code",
   "execution_count": 12,
   "metadata": {},
   "outputs": [
    {
     "data": {
      "text/plain": [
       "{'Ruby': 7331,\n",
       " 'Elixir': 1260,\n",
       " 'SQL': 47544,\n",
       " 'Scala': 3309,\n",
       " 'Clojure': 1254,\n",
       " 'TypeScript': 18523,\n",
       " 'C': 71988,\n",
       " 'JavaScript': 59219,\n",
       " 'Java': 70113,\n",
       " 'Objective-C': 4191,\n",
       " 'F#': 973,\n",
       " 'VBA': 4781,\n",
       " 'C#': 27097,\n",
       " 'C++': 20524,\n",
       " 'Dart': 1683,\n",
       " 'WebAssembly': 1015,\n",
       " 'Python': 36443,\n",
       " 'Go': 7201,\n",
       " 'Other(s):': 7920,\n",
       " 'Assembly': 6547,\n",
       " 'Swift': 5744,\n",
       " 'R': 13947,\n",
       " 'Erlang': 777,\n",
       " 'Bash/Shell/PowerShell': 31991,\n",
       " 'Kotlin': 5620,\n",
       " 'Rust': 2794,\n",
       " 'HTML/CSS': 55466,\n",
       " 'PHP': 23030}"
      ]
     },
     "execution_count": 12,
     "metadata": {},
     "output_type": "execute_result"
    }
   ],
   "source": [
    "unique_dict"
   ]
  },
  {
   "cell_type": "code",
   "execution_count": 13,
   "metadata": {},
   "outputs": [],
   "source": [
    "unique_df = pd.Series(unique_dict)"
   ]
  },
  {
   "cell_type": "code",
   "execution_count": 14,
   "metadata": {},
   "outputs": [],
   "source": [
    "unique_df.sort_values(inplace=True)"
   ]
  },
  {
   "cell_type": "code",
   "execution_count": 15,
   "metadata": {},
   "outputs": [
    {
     "data": {
      "image/png": "[encoded data removed]",
      "text/plain": [
       "<Figure size 1080x648 with 1 Axes>"
      ]
     },
     "metadata": {
      "needs_background": "light"
     },
     "output_type": "display_data"
    }
   ],
   "source": [
    "plt.figure(figsize=(15,9))\n",
    "unique_df.plot(kind = \"bar\")\n",
    "for index, value in enumerate(unique_df.values):\n",
    "    plt.text(index, value+30, str(value), ha = \"center\", va= \"bottom\",c = \"blue\")\n"
   ]
  },
  {
   "cell_type": "code",
   "execution_count": 16,
   "metadata": {},
   "outputs": [
    {
     "data": {
      "image/png": "[encoded data removed]",
      "text/plain": [
       "<Figure size 720x648 with 1 Axes>"
      ]
     },
     "metadata": {
      "needs_background": "light"
     },
     "output_type": "display_data"
    }
   ],
   "source": [
    "fig, ax = plt.subplots(figsize = (10,9))\n",
    "plt.barh(unique_df.index, unique_df.values);\n"
   ]
  },
  {
   "cell_type": "code",
   "execution_count": 17,
   "metadata": {},
   "outputs": [
    {
     "data": {
      "text/plain": [
       "count       28.000000\n",
       "mean     19224.464286\n",
       "std      22370.764582\n",
       "min        777.000000\n",
       "25%       3180.250000\n",
       "50%       7266.000000\n",
       "75%      28320.500000\n",
       "max      71988.000000\n",
       "dtype: float64"
      ]
     },
     "execution_count": 17,
     "metadata": {},
     "output_type": "execute_result"
    }
   ],
   "source": [
    "unique_df.describe()"
   ]
  },
  {
   "cell_type": "code",
   "execution_count": 21,
   "metadata": {},
   "outputs": [
    {
     "data": {
      "text/html": [
       "<div>\n",
       "<style scoped>\n",
       "    .dataframe tbody tr th:only-of-type {\n",
       "        vertical-align: middle;\n",
       "    }\n",
       "\n",
       "    .dataframe tbody tr th {\n",
       "        vertical-align: top;\n",
       "    }\n",
       "\n",
       "    .dataframe thead th {\n",
       "        text-align: right;\n",
       "    }\n",
       "</style>\n",
       "<table border=\"1\" class=\"dataframe\">\n",
       "  <thead>\n",
       "    <tr style=\"text-align: right;\">\n",
       "      <th></th>\n",
       "      <th>Tercih Sayısı</th>\n",
       "    </tr>\n",
       "  </thead>\n",
       "  <tbody>\n",
       "    <tr>\n",
       "      <th>Erlang</th>\n",
       "      <td>777</td>\n",
       "    </tr>\n",
       "    <tr>\n",
       "      <th>F#</th>\n",
       "      <td>973</td>\n",
       "    </tr>\n",
       "    <tr>\n",
       "      <th>WebAssembly</th>\n",
       "      <td>1015</td>\n",
       "    </tr>\n",
       "    <tr>\n",
       "      <th>Clojure</th>\n",
       "      <td>1254</td>\n",
       "    </tr>\n",
       "    <tr>\n",
       "      <th>Elixir</th>\n",
       "      <td>1260</td>\n",
       "    </tr>\n",
       "    <tr>\n",
       "      <th>Dart</th>\n",
       "      <td>1683</td>\n",
       "    </tr>\n",
       "    <tr>\n",
       "      <th>Rust</th>\n",
       "      <td>2794</td>\n",
       "    </tr>\n",
       "    <tr>\n",
       "      <th>Scala</th>\n",
       "      <td>3309</td>\n",
       "    </tr>\n",
       "    <tr>\n",
       "      <th>Objective-C</th>\n",
       "      <td>4191</td>\n",
       "    </tr>\n",
       "    <tr>\n",
       "      <th>VBA</th>\n",
       "      <td>4781</td>\n",
       "    </tr>\n",
       "    <tr>\n",
       "      <th>Kotlin</th>\n",
       "      <td>5620</td>\n",
       "    </tr>\n",
       "    <tr>\n",
       "      <th>Swift</th>\n",
       "      <td>5744</td>\n",
       "    </tr>\n",
       "    <tr>\n",
       "      <th>Assembly</th>\n",
       "      <td>6547</td>\n",
       "    </tr>\n",
       "    <tr>\n",
       "      <th>Go</th>\n",
       "      <td>7201</td>\n",
       "    </tr>\n",
       "    <tr>\n",
       "      <th>Ruby</th>\n",
       "      <td>7331</td>\n",
       "    </tr>\n",
       "    <tr>\n",
       "      <th>Other(s):</th>\n",
       "      <td>7920</td>\n",
       "    </tr>\n",
       "    <tr>\n",
       "      <th>R</th>\n",
       "      <td>13947</td>\n",
       "    </tr>\n",
       "    <tr>\n",
       "      <th>TypeScript</th>\n",
       "      <td>18523</td>\n",
       "    </tr>\n",
       "    <tr>\n",
       "      <th>C++</th>\n",
       "      <td>20524</td>\n",
       "    </tr>\n",
       "    <tr>\n",
       "      <th>PHP</th>\n",
       "      <td>23030</td>\n",
       "    </tr>\n",
       "    <tr>\n",
       "      <th>C#</th>\n",
       "      <td>27097</td>\n",
       "    </tr>\n",
       "    <tr>\n",
       "      <th>Bash/Shell/PowerShell</th>\n",
       "      <td>31991</td>\n",
       "    </tr>\n",
       "    <tr>\n",
       "      <th>Python</th>\n",
       "      <td>36443</td>\n",
       "    </tr>\n",
       "    <tr>\n",
       "      <th>SQL</th>\n",
       "      <td>47544</td>\n",
       "    </tr>\n",
       "    <tr>\n",
       "      <th>HTML/CSS</th>\n",
       "      <td>55466</td>\n",
       "    </tr>\n",
       "    <tr>\n",
       "      <th>JavaScript</th>\n",
       "      <td>59219</td>\n",
       "    </tr>\n",
       "    <tr>\n",
       "      <th>Java</th>\n",
       "      <td>70113</td>\n",
       "    </tr>\n",
       "    <tr>\n",
       "      <th>C</th>\n",
       "      <td>71988</td>\n",
       "    </tr>\n",
       "  </tbody>\n",
       "</table>\n",
       "</div>"
      ],
      "text/plain": [
       "                       Tercih Sayısı\n",
       "Erlang                           777\n",
       "F#                               973\n",
       "WebAssembly                     1015\n",
       "Clojure                         1254\n",
       "Elixir                          1260\n",
       "Dart                            1683\n",
       "Rust                            2794\n",
       "Scala                           3309\n",
       "Objective-C                     4191\n",
       "VBA                             4781\n",
       "Kotlin                          5620\n",
       "Swift                           5744\n",
       "Assembly                        6547\n",
       "Go                              7201\n",
       "Ruby                            7331\n",
       "Other(s):                       7920\n",
       "R                              13947\n",
       "TypeScript                     18523\n",
       "C++                            20524\n",
       "PHP                            23030\n",
       "C#                             27097\n",
       "Bash/Shell/PowerShell          31991\n",
       "Python                         36443\n",
       "SQL                            47544\n",
       "HTML/CSS                       55466\n",
       "JavaScript                     59219\n",
       "Java                           70113\n",
       "C                              71988"
      ]
     },
     "execution_count": 21,
     "metadata": {},
     "output_type": "execute_result"
    }
   ],
   "source": [
    "df = pd.DataFrame(unique_df, columns=[\"Tercih Sayısı\"])\n",
    "df"
   ]
  },
  {
   "cell_type": "code",
   "execution_count": 19,
   "metadata": {},
   "outputs": [
    {
     "name": "stderr",
     "output_type": "stream",
     "text": [
      "C:\\Users\\MTM\\Anaconda3\\lib\\site-packages\\seaborn\\_decorators.py:36: FutureWarning: Pass the following variable as a keyword arg: x. From version 0.12, the only valid positional argument will be `data`, and passing other arguments without an explicit keyword will result in an error or misinterpretation.\n",
      "  warnings.warn(\n"
     ]
    },
    {
     "data": {
      "image/png": "[encoded data removed]",
      "text/plain": [
       "<Figure size 432x288 with 1 Axes>"
      ]
     },
     "metadata": {
      "needs_background": "light"
     },
     "output_type": "display_data"
    }
   ],
   "source": [
    "sns.boxplot(unique_df);"
   ]
  },
  {
   "cell_type": "code",
   "execution_count": 22,
   "metadata": {},
   "outputs": [
    {
     "name": "stderr",
     "output_type": "stream",
     "text": [
      "C:\\Users\\MTM\\Anaconda3\\lib\\site-packages\\seaborn\\_decorators.py:36: FutureWarning: Pass the following variables as keyword args: x, y. From version 0.12, the only valid positional argument will be `data`, and passing other arguments without an explicit keyword will result in an error or misinterpretation.\n",
      "  warnings.warn(\n"
     ]
    },
    {
     "data": {
      "image/png": "[encoded data removed]",
      "text/plain": [
       "<Figure size 1080x432 with 1 Axes>"
      ]
     },
     "metadata": {
      "needs_background": "light"
     },
     "output_type": "display_data"
    }
   ],
   "source": [
    "plt.figure(figsize=(15,6))\n",
    "sns.barplot(unique_df.index, unique_df.values)\n",
    "plt.xticks(rotation = 60);\n",
    "for index, value in enumerate(unique_df.values):\n",
    "    plt.text(index, value+30, str(value), ha = \"center\", va= \"bottom\",c = \"blue\")"
   ]
  }
 ],
 "metadata": {
  "kernelspec": {
   "display_name": "Python 3",
   "language": "python",
   "name": "python3"
  },
  "language_info": {
   "codemirror_mode": {
    "name": "ipython",
    "version": 3
   },
   "file_extension": ".py",
   "mimetype": "text/x-python",
   "name": "python",
   "nbconvert_exporter": "python",
   "pygments_lexer": "ipython3",
   "version": "3.8.5"
  }
 },
 "nbformat": 4,
 "nbformat_minor": 4
}
