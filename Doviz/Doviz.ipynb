{
 "cells": [
  {
   "cell_type": "code",
   "execution_count": 1,
   "metadata": {},
   "outputs": [],
   "source": [
    "import numpy as np\n",
    "import pandas as pd\n",
    "import seaborn as sns\n",
    "import matplotlib.pyplot as plt"
   ]
  },
  {
   "cell_type": "code",
   "execution_count": 3,
   "metadata": {},
   "outputs": [
    {
     "data": {
      "text/html": [
       "<div>\n",
       "<style scoped>\n",
       "    .dataframe tbody tr th:only-of-type {\n",
       "        vertical-align: middle;\n",
       "    }\n",
       "\n",
       "    .dataframe tbody tr th {\n",
       "        vertical-align: top;\n",
       "    }\n",
       "\n",
       "    .dataframe thead th {\n",
       "        text-align: right;\n",
       "    }\n",
       "</style>\n",
       "<table border=\"1\" class=\"dataframe\">\n",
       "  <thead>\n",
       "    <tr style=\"text-align: right;\">\n",
       "      <th></th>\n",
       "      <th>Tarih</th>\n",
       "      <th>Þimdi</th>\n",
       "      <th>Açýlýþ</th>\n",
       "      <th>Yüksek</th>\n",
       "      <th>Düþük</th>\n",
       "      <th>Fark %</th>\n",
       "      <th>DovizTuru</th>\n",
       "    </tr>\n",
       "  </thead>\n",
       "  <tbody>\n",
       "    <tr>\n",
       "      <th>0</th>\n",
       "      <td>05.07.2021</td>\n",
       "      <td>10,29</td>\n",
       "      <td>10,3058</td>\n",
       "      <td>10,3292</td>\n",
       "      <td>10,2661</td>\n",
       "      <td>-0,17%</td>\n",
       "      <td>EUR-TRY</td>\n",
       "    </tr>\n",
       "    <tr>\n",
       "      <th>1</th>\n",
       "      <td>04.07.2021</td>\n",
       "      <td>10,3071</td>\n",
       "      <td>10,3071</td>\n",
       "      <td>10,3278</td>\n",
       "      <td>10,2867</td>\n",
       "      <td>0,10%</td>\n",
       "      <td>EUR-TRY</td>\n",
       "    </tr>\n",
       "    <tr>\n",
       "      <th>2</th>\n",
       "      <td>02.07.2021</td>\n",
       "      <td>10,297</td>\n",
       "      <td>10,2662</td>\n",
       "      <td>10,3301</td>\n",
       "      <td>10,2332</td>\n",
       "      <td>0,48%</td>\n",
       "      <td>EUR-TRY</td>\n",
       "    </tr>\n",
       "    <tr>\n",
       "      <th>3</th>\n",
       "      <td>01.07.2021</td>\n",
       "      <td>10,248</td>\n",
       "      <td>10,3277</td>\n",
       "      <td>10,3441</td>\n",
       "      <td>10,2348</td>\n",
       "      <td>-0,68%</td>\n",
       "      <td>EUR-TRY</td>\n",
       "    </tr>\n",
       "    <tr>\n",
       "      <th>4</th>\n",
       "      <td>30.06.2021</td>\n",
       "      <td>10,3182</td>\n",
       "      <td>10,3958</td>\n",
       "      <td>10,419</td>\n",
       "      <td>10,2581</td>\n",
       "      <td>-0,64%</td>\n",
       "      <td>EUR-TRY</td>\n",
       "    </tr>\n",
       "  </tbody>\n",
       "</table>\n",
       "</div>"
      ],
      "text/plain": [
       "        Tarih    Þimdi   Açýlýþ   Yüksek    Düþük  Fark % DovizTuru\n",
       "0  05.07.2021    10,29  10,3058  10,3292  10,2661  -0,17%   EUR-TRY\n",
       "1  04.07.2021  10,3071  10,3071  10,3278  10,2867   0,10%   EUR-TRY\n",
       "2  02.07.2021   10,297  10,2662  10,3301  10,2332   0,48%   EUR-TRY\n",
       "3  01.07.2021   10,248  10,3277  10,3441  10,2348  -0,68%   EUR-TRY\n",
       "4  30.06.2021  10,3182  10,3958   10,419  10,2581  -0,64%   EUR-TRY"
      ]
     },
     "execution_count": 3,
     "metadata": {},
     "output_type": "execute_result"
    }
   ],
   "source": [
    "df=pd.read_csv(\"DovizDepo.csv\", encoding=\"windows-1252\", decimal=\".\")\n",
    "df.head()"
   ]
  },
  {
   "cell_type": "code",
   "execution_count": 4,
   "metadata": {},
   "outputs": [],
   "source": [
    "df.columns=[\"date\", \"now\", \"begin\", \"high\", \"low\", \"diffirence(%)\", \"exchange_rate\"]"
   ]
  },
  {
   "cell_type": "code",
   "execution_count": 5,
   "metadata": {},
   "outputs": [
    {
     "data": {
      "text/html": [
       "<div>\n",
       "<style scoped>\n",
       "    .dataframe tbody tr th:only-of-type {\n",
       "        vertical-align: middle;\n",
       "    }\n",
       "\n",
       "    .dataframe tbody tr th {\n",
       "        vertical-align: top;\n",
       "    }\n",
       "\n",
       "    .dataframe thead th {\n",
       "        text-align: right;\n",
       "    }\n",
       "</style>\n",
       "<table border=\"1\" class=\"dataframe\">\n",
       "  <thead>\n",
       "    <tr style=\"text-align: right;\">\n",
       "      <th></th>\n",
       "      <th>date</th>\n",
       "      <th>now</th>\n",
       "      <th>begin</th>\n",
       "      <th>high</th>\n",
       "      <th>low</th>\n",
       "      <th>diffirence(%)</th>\n",
       "      <th>exchange_rate</th>\n",
       "    </tr>\n",
       "  </thead>\n",
       "  <tbody>\n",
       "    <tr>\n",
       "      <th>0</th>\n",
       "      <td>05.07.2021</td>\n",
       "      <td>10,29</td>\n",
       "      <td>10,3058</td>\n",
       "      <td>10,3292</td>\n",
       "      <td>10,2661</td>\n",
       "      <td>-0,17%</td>\n",
       "      <td>EUR-TRY</td>\n",
       "    </tr>\n",
       "    <tr>\n",
       "      <th>1</th>\n",
       "      <td>04.07.2021</td>\n",
       "      <td>10,3071</td>\n",
       "      <td>10,3071</td>\n",
       "      <td>10,3278</td>\n",
       "      <td>10,2867</td>\n",
       "      <td>0,10%</td>\n",
       "      <td>EUR-TRY</td>\n",
       "    </tr>\n",
       "    <tr>\n",
       "      <th>2</th>\n",
       "      <td>02.07.2021</td>\n",
       "      <td>10,297</td>\n",
       "      <td>10,2662</td>\n",
       "      <td>10,3301</td>\n",
       "      <td>10,2332</td>\n",
       "      <td>0,48%</td>\n",
       "      <td>EUR-TRY</td>\n",
       "    </tr>\n",
       "    <tr>\n",
       "      <th>3</th>\n",
       "      <td>01.07.2021</td>\n",
       "      <td>10,248</td>\n",
       "      <td>10,3277</td>\n",
       "      <td>10,3441</td>\n",
       "      <td>10,2348</td>\n",
       "      <td>-0,68%</td>\n",
       "      <td>EUR-TRY</td>\n",
       "    </tr>\n",
       "    <tr>\n",
       "      <th>4</th>\n",
       "      <td>30.06.2021</td>\n",
       "      <td>10,3182</td>\n",
       "      <td>10,3958</td>\n",
       "      <td>10,419</td>\n",
       "      <td>10,2581</td>\n",
       "      <td>-0,64%</td>\n",
       "      <td>EUR-TRY</td>\n",
       "    </tr>\n",
       "  </tbody>\n",
       "</table>\n",
       "</div>"
      ],
      "text/plain": [
       "         date      now    begin     high      low diffirence(%) exchange_rate\n",
       "0  05.07.2021    10,29  10,3058  10,3292  10,2661        -0,17%       EUR-TRY\n",
       "1  04.07.2021  10,3071  10,3071  10,3278  10,2867         0,10%       EUR-TRY\n",
       "2  02.07.2021   10,297  10,2662  10,3301  10,2332         0,48%       EUR-TRY\n",
       "3  01.07.2021   10,248  10,3277  10,3441  10,2348        -0,68%       EUR-TRY\n",
       "4  30.06.2021  10,3182  10,3958   10,419  10,2581        -0,64%       EUR-TRY"
      ]
     },
     "execution_count": 5,
     "metadata": {},
     "output_type": "execute_result"
    }
   ],
   "source": [
    "df.head()"
   ]
  },
  {
   "cell_type": "code",
   "execution_count": 6,
   "metadata": {},
   "outputs": [
    {
     "name": "stdout",
     "output_type": "stream",
     "text": [
      "<class 'pandas.core.frame.DataFrame'>\n",
      "RangeIndex: 21994 entries, 0 to 21993\n",
      "Data columns (total 7 columns):\n",
      " #   Column         Non-Null Count  Dtype \n",
      "---  ------         --------------  ----- \n",
      " 0   date           21994 non-null  object\n",
      " 1   now            21994 non-null  object\n",
      " 2   begin          21994 non-null  object\n",
      " 3   high           21994 non-null  object\n",
      " 4   low            21994 non-null  object\n",
      " 5   diffirence(%)  21994 non-null  object\n",
      " 6   exchange_rate  21994 non-null  object\n",
      "dtypes: object(7)\n",
      "memory usage: 1.2+ MB\n"
     ]
    }
   ],
   "source": [
    "df.info()"
   ]
  },
  {
   "cell_type": "code",
   "execution_count": 9,
   "metadata": {},
   "outputs": [
    {
     "data": {
      "text/html": [
       "<div>\n",
       "<style scoped>\n",
       "    .dataframe tbody tr th:only-of-type {\n",
       "        vertical-align: middle;\n",
       "    }\n",
       "\n",
       "    .dataframe tbody tr th {\n",
       "        vertical-align: top;\n",
       "    }\n",
       "\n",
       "    .dataframe thead th {\n",
       "        text-align: right;\n",
       "    }\n",
       "</style>\n",
       "<table border=\"1\" class=\"dataframe\">\n",
       "  <thead>\n",
       "    <tr style=\"text-align: right;\">\n",
       "      <th></th>\n",
       "      <th>date</th>\n",
       "      <th>now</th>\n",
       "      <th>begin</th>\n",
       "      <th>high</th>\n",
       "      <th>low</th>\n",
       "      <th>diffirence(%)</th>\n",
       "      <th>exchange_rate</th>\n",
       "    </tr>\n",
       "  </thead>\n",
       "  <tbody>\n",
       "    <tr>\n",
       "      <th>6972</th>\n",
       "      <td>30.09.1994</td>\n",
       "      <td>0</td>\n",
       "      <td>0</td>\n",
       "      <td>0</td>\n",
       "      <td>0</td>\n",
       "      <td>0,00%</td>\n",
       "      <td>EUR-TRY</td>\n",
       "    </tr>\n",
       "    <tr>\n",
       "      <th>10690</th>\n",
       "      <td>06.12.2011</td>\n",
       "      <td>1,3403</td>\n",
       "      <td>1,339</td>\n",
       "      <td>1,3428</td>\n",
       "      <td>1,3333</td>\n",
       "      <td>0,00%</td>\n",
       "      <td>EUR-USD</td>\n",
       "    </tr>\n",
       "    <tr>\n",
       "      <th>17752</th>\n",
       "      <td>06.11.2003</td>\n",
       "      <td>1,5055</td>\n",
       "      <td>1,4905</td>\n",
       "      <td>1,5075</td>\n",
       "      <td>1,4885</td>\n",
       "      <td>1,03%</td>\n",
       "      <td>USD-TRY</td>\n",
       "    </tr>\n",
       "    <tr>\n",
       "      <th>12655</th>\n",
       "      <td>25.05.2004</td>\n",
       "      <td>1,2098</td>\n",
       "      <td>1,201</td>\n",
       "      <td>1,2131</td>\n",
       "      <td>1,1987</td>\n",
       "      <td>0,79%</td>\n",
       "      <td>EUR-USD</td>\n",
       "    </tr>\n",
       "    <tr>\n",
       "      <th>206</th>\n",
       "      <td>21.09.2020</td>\n",
       "      <td>8,9796</td>\n",
       "      <td>8,9584</td>\n",
       "      <td>9,0009</td>\n",
       "      <td>8,9299</td>\n",
       "      <td>0,39%</td>\n",
       "      <td>EUR-TRY</td>\n",
       "    </tr>\n",
       "  </tbody>\n",
       "</table>\n",
       "</div>"
      ],
      "text/plain": [
       "             date     now   begin    high     low diffirence(%) exchange_rate\n",
       "6972   30.09.1994       0       0       0       0         0,00%       EUR-TRY\n",
       "10690  06.12.2011  1,3403   1,339  1,3428  1,3333         0,00%       EUR-USD\n",
       "17752  06.11.2003  1,5055  1,4905  1,5075  1,4885         1,03%       USD-TRY\n",
       "12655  25.05.2004  1,2098   1,201  1,2131  1,1987         0,79%       EUR-USD\n",
       "206    21.09.2020  8,9796  8,9584  9,0009  8,9299         0,39%       EUR-TRY"
      ]
     },
     "execution_count": 9,
     "metadata": {},
     "output_type": "execute_result"
    }
   ],
   "source": [
    "df.sample(5)"
   ]
  },
  {
   "cell_type": "code",
   "execution_count": 10,
   "metadata": {},
   "outputs": [],
   "source": [
    "df[[\"now\",\"begin\",\"high\",\"low\"]]=df[[\"now\",\"begin\",\"high\",\"low\"]].replace({\"0\":np.nan})"
   ]
  },
  {
   "cell_type": "code",
   "execution_count": 11,
   "metadata": {},
   "outputs": [
    {
     "name": "stdout",
     "output_type": "stream",
     "text": [
      "<class 'pandas.core.frame.DataFrame'>\n",
      "RangeIndex: 21994 entries, 0 to 21993\n",
      "Data columns (total 7 columns):\n",
      " #   Column         Non-Null Count  Dtype \n",
      "---  ------         --------------  ----- \n",
      " 0   date           21994 non-null  object\n",
      " 1   now            19645 non-null  object\n",
      " 2   begin          19645 non-null  object\n",
      " 3   high           19645 non-null  object\n",
      " 4   low            19645 non-null  object\n",
      " 5   diffirence(%)  21994 non-null  object\n",
      " 6   exchange_rate  21994 non-null  object\n",
      "dtypes: object(7)\n",
      "memory usage: 1.2+ MB\n"
     ]
    }
   ],
   "source": [
    "df.info()"
   ]
  },
  {
   "cell_type": "code",
   "execution_count": 12,
   "metadata": {},
   "outputs": [
    {
     "data": {
      "text/plain": [
       "date                0\n",
       "now              2349\n",
       "begin            2349\n",
       "high             2349\n",
       "low              2349\n",
       "diffirence(%)       0\n",
       "exchange_rate       0\n",
       "dtype: int64"
      ]
     },
     "execution_count": 12,
     "metadata": {},
     "output_type": "execute_result"
    }
   ],
   "source": [
    "df.isnull().sum()"
   ]
  },
  {
   "cell_type": "code",
   "execution_count": 13,
   "metadata": {},
   "outputs": [
    {
     "data": {
      "text/plain": [
       "USD-TRY    8192\n",
       "EUR-TRY    8190\n",
       "EUR-USD    5612\n",
       "Name: exchange_rate, dtype: int64"
      ]
     },
     "execution_count": 13,
     "metadata": {},
     "output_type": "execute_result"
    }
   ],
   "source": [
    "df.exchange_rate.value_counts()"
   ]
  },
  {
   "cell_type": "code",
   "execution_count": 14,
   "metadata": {},
   "outputs": [],
   "source": [
    "df.dropna(axis=0, thresh=4, inplace=True)"
   ]
  },
  {
   "cell_type": "code",
   "execution_count": 15,
   "metadata": {},
   "outputs": [
    {
     "name": "stdout",
     "output_type": "stream",
     "text": [
      "<class 'pandas.core.frame.DataFrame'>\n",
      "Int64Index: 19645 entries, 0 to 21993\n",
      "Data columns (total 7 columns):\n",
      " #   Column         Non-Null Count  Dtype \n",
      "---  ------         --------------  ----- \n",
      " 0   date           19645 non-null  object\n",
      " 1   now            19645 non-null  object\n",
      " 2   begin          19645 non-null  object\n",
      " 3   high           19645 non-null  object\n",
      " 4   low            19645 non-null  object\n",
      " 5   diffirence(%)  19645 non-null  object\n",
      " 6   exchange_rate  19645 non-null  object\n",
      "dtypes: object(7)\n",
      "memory usage: 1.2+ MB\n"
     ]
    }
   ],
   "source": [
    "df.info()"
   ]
  },
  {
   "cell_type": "code",
   "execution_count": 19,
   "metadata": {
    "scrolled": true
   },
   "outputs": [
    {
     "data": {
      "text/html": [
       "<div>\n",
       "<style scoped>\n",
       "    .dataframe tbody tr th:only-of-type {\n",
       "        vertical-align: middle;\n",
       "    }\n",
       "\n",
       "    .dataframe tbody tr th {\n",
       "        vertical-align: top;\n",
       "    }\n",
       "\n",
       "    .dataframe thead th {\n",
       "        text-align: right;\n",
       "    }\n",
       "</style>\n",
       "<table border=\"1\" class=\"dataframe\">\n",
       "  <thead>\n",
       "    <tr style=\"text-align: right;\">\n",
       "      <th></th>\n",
       "      <th>date</th>\n",
       "      <th>now</th>\n",
       "      <th>begin</th>\n",
       "      <th>high</th>\n",
       "      <th>low</th>\n",
       "      <th>diffirence(%)</th>\n",
       "      <th>exchange_rate</th>\n",
       "    </tr>\n",
       "  </thead>\n",
       "  <tbody>\n",
       "    <tr>\n",
       "      <th>9227</th>\n",
       "      <td>14.07.2017</td>\n",
       "      <td>1,1469</td>\n",
       "      <td>1,14</td>\n",
       "      <td>1,1473</td>\n",
       "      <td>1,1392</td>\n",
       "      <td>0,61%</td>\n",
       "      <td>EUR-USD</td>\n",
       "    </tr>\n",
       "    <tr>\n",
       "      <th>2595</th>\n",
       "      <td>26.07.2011</td>\n",
       "      <td>2,4649</td>\n",
       "      <td>2,4661</td>\n",
       "      <td>2,502</td>\n",
       "      <td>2,4562</td>\n",
       "      <td>-0,09%</td>\n",
       "      <td>EUR-TRY</td>\n",
       "    </tr>\n",
       "    <tr>\n",
       "      <th>18113</th>\n",
       "      <td>19.06.2002</td>\n",
       "      <td>1,5445</td>\n",
       "      <td>1,5575</td>\n",
       "      <td>1,5995</td>\n",
       "      <td>1,5375</td>\n",
       "      <td>-0,52%</td>\n",
       "      <td>USD-TRY</td>\n",
       "    </tr>\n",
       "    <tr>\n",
       "      <th>21211</th>\n",
       "      <td>29.01.1993</td>\n",
       "      <td>0,0089</td>\n",
       "      <td>0,0089</td>\n",
       "      <td>0,009</td>\n",
       "      <td>0,0088</td>\n",
       "      <td>0,00%</td>\n",
       "      <td>USD-TRY</td>\n",
       "    </tr>\n",
       "    <tr>\n",
       "      <th>2934</th>\n",
       "      <td>07.04.2010</td>\n",
       "      <td>2,0014</td>\n",
       "      <td>2,0153</td>\n",
       "      <td>2,0165</td>\n",
       "      <td>1,9897</td>\n",
       "      <td>-0,74%</td>\n",
       "      <td>EUR-TRY</td>\n",
       "    </tr>\n",
       "  </tbody>\n",
       "</table>\n",
       "</div>"
      ],
      "text/plain": [
       "             date     now   begin    high     low diffirence(%) exchange_rate\n",
       "9227   14.07.2017  1,1469    1,14  1,1473  1,1392         0,61%       EUR-USD\n",
       "2595   26.07.2011  2,4649  2,4661   2,502  2,4562        -0,09%       EUR-TRY\n",
       "18113  19.06.2002  1,5445  1,5575  1,5995  1,5375        -0,52%       USD-TRY\n",
       "21211  29.01.1993  0,0089  0,0089   0,009  0,0088         0,00%       USD-TRY\n",
       "2934   07.04.2010  2,0014  2,0153  2,0165  1,9897        -0,74%       EUR-TRY"
      ]
     },
     "execution_count": 19,
     "metadata": {},
     "output_type": "execute_result"
    }
   ],
   "source": [
    "df.sample(5)"
   ]
  },
  {
   "cell_type": "code",
   "execution_count": 20,
   "metadata": {},
   "outputs": [],
   "source": [
    "for i in df.columns:\n",
    "    df[i]=df[i].str.replace(\",\",\".\")\n",
    "        "
   ]
  },
  {
   "cell_type": "code",
   "execution_count": 21,
   "metadata": {},
   "outputs": [
    {
     "data": {
      "text/html": [
       "<div>\n",
       "<style scoped>\n",
       "    .dataframe tbody tr th:only-of-type {\n",
       "        vertical-align: middle;\n",
       "    }\n",
       "\n",
       "    .dataframe tbody tr th {\n",
       "        vertical-align: top;\n",
       "    }\n",
       "\n",
       "    .dataframe thead th {\n",
       "        text-align: right;\n",
       "    }\n",
       "</style>\n",
       "<table border=\"1\" class=\"dataframe\">\n",
       "  <thead>\n",
       "    <tr style=\"text-align: right;\">\n",
       "      <th></th>\n",
       "      <th>date</th>\n",
       "      <th>now</th>\n",
       "      <th>begin</th>\n",
       "      <th>high</th>\n",
       "      <th>low</th>\n",
       "      <th>diffirence(%)</th>\n",
       "      <th>exchange_rate</th>\n",
       "    </tr>\n",
       "  </thead>\n",
       "  <tbody>\n",
       "    <tr>\n",
       "      <th>8587</th>\n",
       "      <td>27.12.2019</td>\n",
       "      <td>1.1175</td>\n",
       "      <td>1.1097</td>\n",
       "      <td>1.1188</td>\n",
       "      <td>1.1095</td>\n",
       "      <td>0.71%</td>\n",
       "      <td>EUR-USD</td>\n",
       "    </tr>\n",
       "    <tr>\n",
       "      <th>18404</th>\n",
       "      <td>07.05.2001</td>\n",
       "      <td>1.14</td>\n",
       "      <td>1.12</td>\n",
       "      <td>1.19</td>\n",
       "      <td>1.12</td>\n",
       "      <td>0.44%</td>\n",
       "      <td>USD-TRY</td>\n",
       "    </tr>\n",
       "    <tr>\n",
       "      <th>14740</th>\n",
       "      <td>27.05.2015</td>\n",
       "      <td>2.6421</td>\n",
       "      <td>2.6407</td>\n",
       "      <td>2.667</td>\n",
       "      <td>2.631</td>\n",
       "      <td>0.02%</td>\n",
       "      <td>USD-TRY</td>\n",
       "    </tr>\n",
       "    <tr>\n",
       "      <th>19701</th>\n",
       "      <td>19.11.1998</td>\n",
       "      <td>0.2976</td>\n",
       "      <td>0.2969</td>\n",
       "      <td>0.2977</td>\n",
       "      <td>0.2963</td>\n",
       "      <td>0.51%</td>\n",
       "      <td>USD-TRY</td>\n",
       "    </tr>\n",
       "    <tr>\n",
       "      <th>9802</th>\n",
       "      <td>01.05.2015</td>\n",
       "      <td>1.1202</td>\n",
       "      <td>1.1223</td>\n",
       "      <td>1.129</td>\n",
       "      <td>1.1176</td>\n",
       "      <td>-0.20%</td>\n",
       "      <td>EUR-USD</td>\n",
       "    </tr>\n",
       "  </tbody>\n",
       "</table>\n",
       "</div>"
      ],
      "text/plain": [
       "             date     now   begin    high     low diffirence(%) exchange_rate\n",
       "8587   27.12.2019  1.1175  1.1097  1.1188  1.1095         0.71%       EUR-USD\n",
       "18404  07.05.2001    1.14    1.12    1.19    1.12         0.44%       USD-TRY\n",
       "14740  27.05.2015  2.6421  2.6407   2.667   2.631         0.02%       USD-TRY\n",
       "19701  19.11.1998  0.2976  0.2969  0.2977  0.2963         0.51%       USD-TRY\n",
       "9802   01.05.2015  1.1202  1.1223   1.129  1.1176        -0.20%       EUR-USD"
      ]
     },
     "execution_count": 21,
     "metadata": {},
     "output_type": "execute_result"
    }
   ],
   "source": [
    "df.sample(5)"
   ]
  },
  {
   "cell_type": "code",
   "execution_count": 22,
   "metadata": {},
   "outputs": [],
   "source": [
    "df[\"diffirence(%)\"]=df[\"diffirence(%)\"].str.replace(\"%\",\"\")"
   ]
  },
  {
   "cell_type": "code",
   "execution_count": 23,
   "metadata": {},
   "outputs": [
    {
     "data": {
      "text/html": [
       "<div>\n",
       "<style scoped>\n",
       "    .dataframe tbody tr th:only-of-type {\n",
       "        vertical-align: middle;\n",
       "    }\n",
       "\n",
       "    .dataframe tbody tr th {\n",
       "        vertical-align: top;\n",
       "    }\n",
       "\n",
       "    .dataframe thead th {\n",
       "        text-align: right;\n",
       "    }\n",
       "</style>\n",
       "<table border=\"1\" class=\"dataframe\">\n",
       "  <thead>\n",
       "    <tr style=\"text-align: right;\">\n",
       "      <th></th>\n",
       "      <th>date</th>\n",
       "      <th>now</th>\n",
       "      <th>begin</th>\n",
       "      <th>high</th>\n",
       "      <th>low</th>\n",
       "      <th>diffirence(%)</th>\n",
       "      <th>exchange_rate</th>\n",
       "    </tr>\n",
       "  </thead>\n",
       "  <tbody>\n",
       "    <tr>\n",
       "      <th>0</th>\n",
       "      <td>05.07.2021</td>\n",
       "      <td>10.29</td>\n",
       "      <td>10.3058</td>\n",
       "      <td>10.3292</td>\n",
       "      <td>10.2661</td>\n",
       "      <td>-0.17</td>\n",
       "      <td>EUR-TRY</td>\n",
       "    </tr>\n",
       "    <tr>\n",
       "      <th>1</th>\n",
       "      <td>04.07.2021</td>\n",
       "      <td>10.3071</td>\n",
       "      <td>10.3071</td>\n",
       "      <td>10.3278</td>\n",
       "      <td>10.2867</td>\n",
       "      <td>0.10</td>\n",
       "      <td>EUR-TRY</td>\n",
       "    </tr>\n",
       "    <tr>\n",
       "      <th>2</th>\n",
       "      <td>02.07.2021</td>\n",
       "      <td>10.297</td>\n",
       "      <td>10.2662</td>\n",
       "      <td>10.3301</td>\n",
       "      <td>10.2332</td>\n",
       "      <td>0.48</td>\n",
       "      <td>EUR-TRY</td>\n",
       "    </tr>\n",
       "    <tr>\n",
       "      <th>3</th>\n",
       "      <td>01.07.2021</td>\n",
       "      <td>10.248</td>\n",
       "      <td>10.3277</td>\n",
       "      <td>10.3441</td>\n",
       "      <td>10.2348</td>\n",
       "      <td>-0.68</td>\n",
       "      <td>EUR-TRY</td>\n",
       "    </tr>\n",
       "    <tr>\n",
       "      <th>4</th>\n",
       "      <td>30.06.2021</td>\n",
       "      <td>10.3182</td>\n",
       "      <td>10.3958</td>\n",
       "      <td>10.419</td>\n",
       "      <td>10.2581</td>\n",
       "      <td>-0.64</td>\n",
       "      <td>EUR-TRY</td>\n",
       "    </tr>\n",
       "  </tbody>\n",
       "</table>\n",
       "</div>"
      ],
      "text/plain": [
       "         date      now    begin     high      low diffirence(%) exchange_rate\n",
       "0  05.07.2021    10.29  10.3058  10.3292  10.2661         -0.17       EUR-TRY\n",
       "1  04.07.2021  10.3071  10.3071  10.3278  10.2867          0.10       EUR-TRY\n",
       "2  02.07.2021   10.297  10.2662  10.3301  10.2332          0.48       EUR-TRY\n",
       "3  01.07.2021   10.248  10.3277  10.3441  10.2348         -0.68       EUR-TRY\n",
       "4  30.06.2021  10.3182  10.3958   10.419  10.2581         -0.64       EUR-TRY"
      ]
     },
     "execution_count": 23,
     "metadata": {},
     "output_type": "execute_result"
    }
   ],
   "source": [
    "df.head()"
   ]
  },
  {
   "cell_type": "code",
   "execution_count": 24,
   "metadata": {},
   "outputs": [],
   "source": [
    "df=df.astype({\"date\":\"datetime64\",\"now\":\"float\",\"begin\":\"float\",\"high\":\"float\",\"low\":\"float\",\"diffirence(%)\":\"float\"})"
   ]
  },
  {
   "cell_type": "code",
   "execution_count": 25,
   "metadata": {},
   "outputs": [
    {
     "name": "stdout",
     "output_type": "stream",
     "text": [
      "<class 'pandas.core.frame.DataFrame'>\n",
      "Int64Index: 19645 entries, 0 to 21993\n",
      "Data columns (total 7 columns):\n",
      " #   Column         Non-Null Count  Dtype         \n",
      "---  ------         --------------  -----         \n",
      " 0   date           19645 non-null  datetime64[ns]\n",
      " 1   now            19645 non-null  float64       \n",
      " 2   begin          19645 non-null  float64       \n",
      " 3   high           19645 non-null  float64       \n",
      " 4   low            19645 non-null  float64       \n",
      " 5   diffirence(%)  19645 non-null  float64       \n",
      " 6   exchange_rate  19645 non-null  object        \n",
      "dtypes: datetime64[ns](1), float64(5), object(1)\n",
      "memory usage: 1.2+ MB\n"
     ]
    }
   ],
   "source": [
    "df.info()"
   ]
  },
  {
   "cell_type": "code",
   "execution_count": 26,
   "metadata": {},
   "outputs": [
    {
     "data": {
      "text/html": [
       "<div>\n",
       "<style scoped>\n",
       "    .dataframe tbody tr th:only-of-type {\n",
       "        vertical-align: middle;\n",
       "    }\n",
       "\n",
       "    .dataframe tbody tr th {\n",
       "        vertical-align: top;\n",
       "    }\n",
       "\n",
       "    .dataframe thead th {\n",
       "        text-align: right;\n",
       "    }\n",
       "</style>\n",
       "<table border=\"1\" class=\"dataframe\">\n",
       "  <thead>\n",
       "    <tr style=\"text-align: right;\">\n",
       "      <th></th>\n",
       "      <th>date</th>\n",
       "      <th>now</th>\n",
       "      <th>begin</th>\n",
       "      <th>high</th>\n",
       "      <th>low</th>\n",
       "      <th>diffirence(%)</th>\n",
       "      <th>exchange_rate</th>\n",
       "    </tr>\n",
       "  </thead>\n",
       "  <tbody>\n",
       "    <tr>\n",
       "      <th>2797</th>\n",
       "      <td>2010-10-15</td>\n",
       "      <td>1.9768</td>\n",
       "      <td>1.9812</td>\n",
       "      <td>1.9866</td>\n",
       "      <td>1.9643</td>\n",
       "      <td>-0.27</td>\n",
       "      <td>EUR-TRY</td>\n",
       "    </tr>\n",
       "    <tr>\n",
       "      <th>11183</th>\n",
       "      <td>2010-01-14</td>\n",
       "      <td>1.4503</td>\n",
       "      <td>1.4510</td>\n",
       "      <td>1.4556</td>\n",
       "      <td>1.4446</td>\n",
       "      <td>-0.06</td>\n",
       "      <td>EUR-USD</td>\n",
       "    </tr>\n",
       "    <tr>\n",
       "      <th>11949</th>\n",
       "      <td>2007-07-02</td>\n",
       "      <td>1.3019</td>\n",
       "      <td>1.2981</td>\n",
       "      <td>1.3025</td>\n",
       "      <td>1.2965</td>\n",
       "      <td>0.29</td>\n",
       "      <td>EUR-USD</td>\n",
       "    </tr>\n",
       "    <tr>\n",
       "      <th>16088</th>\n",
       "      <td>2010-03-25</td>\n",
       "      <td>1.5447</td>\n",
       "      <td>1.5505</td>\n",
       "      <td>1.5542</td>\n",
       "      <td>1.5372</td>\n",
       "      <td>-0.48</td>\n",
       "      <td>USD-TRY</td>\n",
       "    </tr>\n",
       "    <tr>\n",
       "      <th>2997</th>\n",
       "      <td>2010-08-01</td>\n",
       "      <td>2.1038</td>\n",
       "      <td>2.1073</td>\n",
       "      <td>2.1162</td>\n",
       "      <td>2.0849</td>\n",
       "      <td>-0.19</td>\n",
       "      <td>EUR-TRY</td>\n",
       "    </tr>\n",
       "  </tbody>\n",
       "</table>\n",
       "</div>"
      ],
      "text/plain": [
       "            date     now   begin    high     low  diffirence(%) exchange_rate\n",
       "2797  2010-10-15  1.9768  1.9812  1.9866  1.9643          -0.27       EUR-TRY\n",
       "11183 2010-01-14  1.4503  1.4510  1.4556  1.4446          -0.06       EUR-USD\n",
       "11949 2007-07-02  1.3019  1.2981  1.3025  1.2965           0.29       EUR-USD\n",
       "16088 2010-03-25  1.5447  1.5505  1.5542  1.5372          -0.48       USD-TRY\n",
       "2997  2010-08-01  2.1038  2.1073  2.1162  2.0849          -0.19       EUR-TRY"
      ]
     },
     "execution_count": 26,
     "metadata": {},
     "output_type": "execute_result"
    }
   ],
   "source": [
    "df.sample(5)"
   ]
  },
  {
   "cell_type": "code",
   "execution_count": 27,
   "metadata": {},
   "outputs": [
    {
     "data": {
      "text/html": [
       "<div>\n",
       "<style scoped>\n",
       "    .dataframe tbody tr th:only-of-type {\n",
       "        vertical-align: middle;\n",
       "    }\n",
       "\n",
       "    .dataframe tbody tr th {\n",
       "        vertical-align: top;\n",
       "    }\n",
       "\n",
       "    .dataframe thead th {\n",
       "        text-align: right;\n",
       "    }\n",
       "</style>\n",
       "<table border=\"1\" class=\"dataframe\">\n",
       "  <thead>\n",
       "    <tr style=\"text-align: right;\">\n",
       "      <th></th>\n",
       "      <th>date</th>\n",
       "      <th>now</th>\n",
       "      <th>begin</th>\n",
       "      <th>high</th>\n",
       "      <th>low</th>\n",
       "      <th>diffirence(%)</th>\n",
       "      <th>exchange_rate</th>\n",
       "    </tr>\n",
       "  </thead>\n",
       "  <tbody>\n",
       "    <tr>\n",
       "      <th>0</th>\n",
       "      <td>2021-05-07</td>\n",
       "      <td>10.2900</td>\n",
       "      <td>10.3058</td>\n",
       "      <td>10.3292</td>\n",
       "      <td>10.2661</td>\n",
       "      <td>-0.17</td>\n",
       "      <td>EUR-TRY</td>\n",
       "    </tr>\n",
       "    <tr>\n",
       "      <th>1</th>\n",
       "      <td>2021-04-07</td>\n",
       "      <td>10.3071</td>\n",
       "      <td>10.3071</td>\n",
       "      <td>10.3278</td>\n",
       "      <td>10.2867</td>\n",
       "      <td>0.10</td>\n",
       "      <td>EUR-TRY</td>\n",
       "    </tr>\n",
       "    <tr>\n",
       "      <th>2</th>\n",
       "      <td>2021-02-07</td>\n",
       "      <td>10.2970</td>\n",
       "      <td>10.2662</td>\n",
       "      <td>10.3301</td>\n",
       "      <td>10.2332</td>\n",
       "      <td>0.48</td>\n",
       "      <td>EUR-TRY</td>\n",
       "    </tr>\n",
       "    <tr>\n",
       "      <th>3</th>\n",
       "      <td>2021-01-07</td>\n",
       "      <td>10.2480</td>\n",
       "      <td>10.3277</td>\n",
       "      <td>10.3441</td>\n",
       "      <td>10.2348</td>\n",
       "      <td>-0.68</td>\n",
       "      <td>EUR-TRY</td>\n",
       "    </tr>\n",
       "    <tr>\n",
       "      <th>4</th>\n",
       "      <td>2021-06-30</td>\n",
       "      <td>10.3182</td>\n",
       "      <td>10.3958</td>\n",
       "      <td>10.4190</td>\n",
       "      <td>10.2581</td>\n",
       "      <td>-0.64</td>\n",
       "      <td>EUR-TRY</td>\n",
       "    </tr>\n",
       "  </tbody>\n",
       "</table>\n",
       "</div>"
      ],
      "text/plain": [
       "        date      now    begin     high      low  diffirence(%) exchange_rate\n",
       "0 2021-05-07  10.2900  10.3058  10.3292  10.2661          -0.17       EUR-TRY\n",
       "1 2021-04-07  10.3071  10.3071  10.3278  10.2867           0.10       EUR-TRY\n",
       "2 2021-02-07  10.2970  10.2662  10.3301  10.2332           0.48       EUR-TRY\n",
       "3 2021-01-07  10.2480  10.3277  10.3441  10.2348          -0.68       EUR-TRY\n",
       "4 2021-06-30  10.3182  10.3958  10.4190  10.2581          -0.64       EUR-TRY"
      ]
     },
     "execution_count": 27,
     "metadata": {},
     "output_type": "execute_result"
    }
   ],
   "source": [
    "df.head()"
   ]
  },
  {
   "cell_type": "code",
   "execution_count": 28,
   "metadata": {
    "scrolled": true
   },
   "outputs": [],
   "source": [
    "df[\"year\"]=df.date.dt.year"
   ]
  },
  {
   "cell_type": "code",
   "execution_count": 29,
   "metadata": {},
   "outputs": [],
   "source": [
    "df[\"month\"]=df.date.dt.month"
   ]
  },
  {
   "cell_type": "code",
   "execution_count": 30,
   "metadata": {},
   "outputs": [],
   "source": [
    "df=df[[\"date\",\"year\",\"month\", \"now\", \"begin\", \"high\", \"low\", \"diffirence(%)\", \"exchange_rate\"]]"
   ]
  },
  {
   "cell_type": "code",
   "execution_count": 31,
   "metadata": {},
   "outputs": [
    {
     "data": {
      "text/html": [
       "<div>\n",
       "<style scoped>\n",
       "    .dataframe tbody tr th:only-of-type {\n",
       "        vertical-align: middle;\n",
       "    }\n",
       "\n",
       "    .dataframe tbody tr th {\n",
       "        vertical-align: top;\n",
       "    }\n",
       "\n",
       "    .dataframe thead th {\n",
       "        text-align: right;\n",
       "    }\n",
       "</style>\n",
       "<table border=\"1\" class=\"dataframe\">\n",
       "  <thead>\n",
       "    <tr style=\"text-align: right;\">\n",
       "      <th></th>\n",
       "      <th>date</th>\n",
       "      <th>year</th>\n",
       "      <th>month</th>\n",
       "      <th>now</th>\n",
       "      <th>begin</th>\n",
       "      <th>high</th>\n",
       "      <th>low</th>\n",
       "      <th>diffirence(%)</th>\n",
       "      <th>exchange_rate</th>\n",
       "    </tr>\n",
       "  </thead>\n",
       "  <tbody>\n",
       "    <tr>\n",
       "      <th>0</th>\n",
       "      <td>2021-05-07</td>\n",
       "      <td>2021</td>\n",
       "      <td>5</td>\n",
       "      <td>10.2900</td>\n",
       "      <td>10.3058</td>\n",
       "      <td>10.3292</td>\n",
       "      <td>10.2661</td>\n",
       "      <td>-0.17</td>\n",
       "      <td>EUR-TRY</td>\n",
       "    </tr>\n",
       "    <tr>\n",
       "      <th>1</th>\n",
       "      <td>2021-04-07</td>\n",
       "      <td>2021</td>\n",
       "      <td>4</td>\n",
       "      <td>10.3071</td>\n",
       "      <td>10.3071</td>\n",
       "      <td>10.3278</td>\n",
       "      <td>10.2867</td>\n",
       "      <td>0.10</td>\n",
       "      <td>EUR-TRY</td>\n",
       "    </tr>\n",
       "    <tr>\n",
       "      <th>2</th>\n",
       "      <td>2021-02-07</td>\n",
       "      <td>2021</td>\n",
       "      <td>2</td>\n",
       "      <td>10.2970</td>\n",
       "      <td>10.2662</td>\n",
       "      <td>10.3301</td>\n",
       "      <td>10.2332</td>\n",
       "      <td>0.48</td>\n",
       "      <td>EUR-TRY</td>\n",
       "    </tr>\n",
       "    <tr>\n",
       "      <th>3</th>\n",
       "      <td>2021-01-07</td>\n",
       "      <td>2021</td>\n",
       "      <td>1</td>\n",
       "      <td>10.2480</td>\n",
       "      <td>10.3277</td>\n",
       "      <td>10.3441</td>\n",
       "      <td>10.2348</td>\n",
       "      <td>-0.68</td>\n",
       "      <td>EUR-TRY</td>\n",
       "    </tr>\n",
       "    <tr>\n",
       "      <th>4</th>\n",
       "      <td>2021-06-30</td>\n",
       "      <td>2021</td>\n",
       "      <td>6</td>\n",
       "      <td>10.3182</td>\n",
       "      <td>10.3958</td>\n",
       "      <td>10.4190</td>\n",
       "      <td>10.2581</td>\n",
       "      <td>-0.64</td>\n",
       "      <td>EUR-TRY</td>\n",
       "    </tr>\n",
       "  </tbody>\n",
       "</table>\n",
       "</div>"
      ],
      "text/plain": [
       "        date  year  month      now    begin     high      low  diffirence(%)  \\\n",
       "0 2021-05-07  2021      5  10.2900  10.3058  10.3292  10.2661          -0.17   \n",
       "1 2021-04-07  2021      4  10.3071  10.3071  10.3278  10.2867           0.10   \n",
       "2 2021-02-07  2021      2  10.2970  10.2662  10.3301  10.2332           0.48   \n",
       "3 2021-01-07  2021      1  10.2480  10.3277  10.3441  10.2348          -0.68   \n",
       "4 2021-06-30  2021      6  10.3182  10.3958  10.4190  10.2581          -0.64   \n",
       "\n",
       "  exchange_rate  \n",
       "0       EUR-TRY  \n",
       "1       EUR-TRY  \n",
       "2       EUR-TRY  \n",
       "3       EUR-TRY  \n",
       "4       EUR-TRY  "
      ]
     },
     "execution_count": 31,
     "metadata": {},
     "output_type": "execute_result"
    }
   ],
   "source": [
    "df.head()"
   ]
  },
  {
   "cell_type": "code",
   "execution_count": 32,
   "metadata": {},
   "outputs": [
    {
     "data": {
      "text/plain": [
       "USD-TRY    8192\n",
       "EUR-TRY    5841\n",
       "EUR-USD    5612\n",
       "Name: exchange_rate, dtype: int64"
      ]
     },
     "execution_count": 32,
     "metadata": {},
     "output_type": "execute_result"
    }
   ],
   "source": [
    "df[\"exchange_rate\"].value_counts()"
   ]
  },
  {
   "cell_type": "code",
   "execution_count": 33,
   "metadata": {},
   "outputs": [],
   "source": [
    "USD_TRY = df[df[\"exchange_rate\"]==\"USD-TRY\"]"
   ]
  },
  {
   "cell_type": "code",
   "execution_count": 34,
   "metadata": {},
   "outputs": [
    {
     "name": "stderr",
     "output_type": "stream",
     "text": [
      "<ipython-input-34-2d1d3b1dc698>:1: SettingWithCopyWarning: \n",
      "A value is trying to be set on a copy of a slice from a DataFrame.\n",
      "Try using .loc[row_indexer,col_indexer] = value instead\n",
      "\n",
      "See the caveats in the documentation: https://pandas.pydata.org/pandas-docs/stable/user_guide/indexing.html#returning-a-view-versus-a-copy\n",
      "  USD_TRY[\"changing\"] = USD_TRY[\"now\"]-USD_TRY[\"now\"].min()\n"
     ]
    }
   ],
   "source": [
    "USD_TRY[\"changing\"] = USD_TRY[\"now\"]-USD_TRY[\"now\"].min()"
   ]
  },
  {
   "cell_type": "code",
   "execution_count": 35,
   "metadata": {},
   "outputs": [
    {
     "data": {
      "text/html": [
       "<div>\n",
       "<style scoped>\n",
       "    .dataframe tbody tr th:only-of-type {\n",
       "        vertical-align: middle;\n",
       "    }\n",
       "\n",
       "    .dataframe tbody tr th {\n",
       "        vertical-align: top;\n",
       "    }\n",
       "\n",
       "    .dataframe thead th {\n",
       "        text-align: right;\n",
       "    }\n",
       "</style>\n",
       "<table border=\"1\" class=\"dataframe\">\n",
       "  <thead>\n",
       "    <tr style=\"text-align: right;\">\n",
       "      <th></th>\n",
       "      <th>date</th>\n",
       "      <th>year</th>\n",
       "      <th>month</th>\n",
       "      <th>now</th>\n",
       "      <th>begin</th>\n",
       "      <th>high</th>\n",
       "      <th>low</th>\n",
       "      <th>diffirence(%)</th>\n",
       "      <th>exchange_rate</th>\n",
       "      <th>changing</th>\n",
       "    </tr>\n",
       "  </thead>\n",
       "  <tbody>\n",
       "    <tr>\n",
       "      <th>13802</th>\n",
       "      <td>2018-12-31</td>\n",
       "      <td>2018</td>\n",
       "      <td>12</td>\n",
       "      <td>5.2887</td>\n",
       "      <td>5.2725</td>\n",
       "      <td>5.3220</td>\n",
       "      <td>5.2530</td>\n",
       "      <td>0.31</td>\n",
       "      <td>USD-TRY</td>\n",
       "      <td>5.2864</td>\n",
       "    </tr>\n",
       "    <tr>\n",
       "      <th>13803</th>\n",
       "      <td>2018-12-28</td>\n",
       "      <td>2018</td>\n",
       "      <td>12</td>\n",
       "      <td>5.2725</td>\n",
       "      <td>5.2850</td>\n",
       "      <td>5.3008</td>\n",
       "      <td>5.2430</td>\n",
       "      <td>-0.24</td>\n",
       "      <td>USD-TRY</td>\n",
       "      <td>5.2702</td>\n",
       "    </tr>\n",
       "    <tr>\n",
       "      <th>13804</th>\n",
       "      <td>2018-12-27</td>\n",
       "      <td>2018</td>\n",
       "      <td>12</td>\n",
       "      <td>5.2850</td>\n",
       "      <td>5.2749</td>\n",
       "      <td>5.3073</td>\n",
       "      <td>5.2644</td>\n",
       "      <td>0.16</td>\n",
       "      <td>USD-TRY</td>\n",
       "      <td>5.2827</td>\n",
       "    </tr>\n",
       "    <tr>\n",
       "      <th>13805</th>\n",
       "      <td>2018-12-26</td>\n",
       "      <td>2018</td>\n",
       "      <td>12</td>\n",
       "      <td>5.2766</td>\n",
       "      <td>5.2965</td>\n",
       "      <td>5.3088</td>\n",
       "      <td>5.2703</td>\n",
       "      <td>-0.63</td>\n",
       "      <td>USD-TRY</td>\n",
       "      <td>5.2743</td>\n",
       "    </tr>\n",
       "    <tr>\n",
       "      <th>13806</th>\n",
       "      <td>2018-12-25</td>\n",
       "      <td>2018</td>\n",
       "      <td>12</td>\n",
       "      <td>5.3101</td>\n",
       "      <td>5.3003</td>\n",
       "      <td>5.3560</td>\n",
       "      <td>5.2901</td>\n",
       "      <td>0.40</td>\n",
       "      <td>USD-TRY</td>\n",
       "      <td>5.3078</td>\n",
       "    </tr>\n",
       "  </tbody>\n",
       "</table>\n",
       "</div>"
      ],
      "text/plain": [
       "            date  year  month     now   begin    high     low  diffirence(%)  \\\n",
       "13802 2018-12-31  2018     12  5.2887  5.2725  5.3220  5.2530           0.31   \n",
       "13803 2018-12-28  2018     12  5.2725  5.2850  5.3008  5.2430          -0.24   \n",
       "13804 2018-12-27  2018     12  5.2850  5.2749  5.3073  5.2644           0.16   \n",
       "13805 2018-12-26  2018     12  5.2766  5.2965  5.3088  5.2703          -0.63   \n",
       "13806 2018-12-25  2018     12  5.3101  5.3003  5.3560  5.2901           0.40   \n",
       "\n",
       "      exchange_rate  changing  \n",
       "13802       USD-TRY    5.2864  \n",
       "13803       USD-TRY    5.2702  \n",
       "13804       USD-TRY    5.2827  \n",
       "13805       USD-TRY    5.2743  \n",
       "13806       USD-TRY    5.3078  "
      ]
     },
     "execution_count": 35,
     "metadata": {},
     "output_type": "execute_result"
    }
   ],
   "source": [
    "USD_TRY.head()"
   ]
  },
  {
   "cell_type": "code",
   "execution_count": 36,
   "metadata": {},
   "outputs": [
    {
     "data": {
      "image/png": "[encoded data removed]",
      "text/plain": [
       "<Figure size 1400x600 with 1 Axes>"
      ]
     },
     "metadata": {
      "needs_background": "light"
     },
     "output_type": "display_data"
    }
   ],
   "source": [
    "fig, ax= plt.subplots(figsize=(14,6), dpi=100)\n",
    "sns.barplot(data=USD_TRY, x=\"year\", y=\"diffirence(%)\", ax=ax, ci=None)\n",
    "plt.xticks(rotation=90);"
   ]
  },
  {
   "cell_type": "code",
   "execution_count": 37,
   "metadata": {},
   "outputs": [],
   "source": [
    "EUR_TRY = df[df[\"exchange_rate\"]==\"EUR-TRY\"]"
   ]
  },
  {
   "cell_type": "code",
   "execution_count": 38,
   "metadata": {},
   "outputs": [
    {
     "data": {
      "image/png": "[encoded data removed]",
      "text/plain": [
       "<Figure size 1000x600 with 1 Axes>"
      ]
     },
     "metadata": {
      "needs_background": "light"
     },
     "output_type": "display_data"
    }
   ],
   "source": [
    "fig, ax= plt.subplots(figsize=(10,6), dpi=100)\n",
    "sns.barplot(data=USD_TRY, x=\"year\", y=\"changing\", ax=ax, ci=None)\n",
    "plt.xticks(rotation=90);"
   ]
  },
  {
   "cell_type": "code",
   "execution_count": 39,
   "metadata": {},
   "outputs": [],
   "source": [
    "EUR_USD = df[df[\"exchange_rate\"]==\"EUR-USD\"]"
   ]
  },
  {
   "cell_type": "code",
   "execution_count": 40,
   "metadata": {},
   "outputs": [
    {
     "name": "stderr",
     "output_type": "stream",
     "text": [
      "<ipython-input-40-9d91f69a4975>:1: SettingWithCopyWarning: \n",
      "A value is trying to be set on a copy of a slice from a DataFrame.\n",
      "Try using .loc[row_indexer,col_indexer] = value instead\n",
      "\n",
      "See the caveats in the documentation: https://pandas.pydata.org/pandas-docs/stable/user_guide/indexing.html#returning-a-view-versus-a-copy\n",
      "  EUR_USD[\"changing\"] = EUR_USD[\"now\"]-EUR_USD[\"now\"].min()\n"
     ]
    }
   ],
   "source": [
    "EUR_USD[\"changing\"] = EUR_USD[\"now\"]-EUR_USD[\"now\"].min()"
   ]
  },
  {
   "cell_type": "code",
   "execution_count": 41,
   "metadata": {},
   "outputs": [
    {
     "data": {
      "image/png": "[encoded data removed]",
      "text/plain": [
       "<Figure size 1000x600 with 1 Axes>"
      ]
     },
     "metadata": {
      "needs_background": "light"
     },
     "output_type": "display_data"
    }
   ],
   "source": [
    "fig, ax= plt.subplots(figsize=(10,6), dpi=100)\n",
    "sns.barplot(data=EUR_USD, x=\"year\", y=\"changing\", ax=ax, ci=None)\n",
    "plt.xticks(rotation=90);"
   ]
  },
  {
   "cell_type": "code",
   "execution_count": 42,
   "metadata": {},
   "outputs": [
    {
     "data": {
      "text/html": [
       "<div>\n",
       "<style scoped>\n",
       "    .dataframe tbody tr th:only-of-type {\n",
       "        vertical-align: middle;\n",
       "    }\n",
       "\n",
       "    .dataframe tbody tr th {\n",
       "        vertical-align: top;\n",
       "    }\n",
       "\n",
       "    .dataframe thead th {\n",
       "        text-align: right;\n",
       "    }\n",
       "</style>\n",
       "<table border=\"1\" class=\"dataframe\">\n",
       "  <thead>\n",
       "    <tr style=\"text-align: right;\">\n",
       "      <th></th>\n",
       "      <th>date</th>\n",
       "      <th>year</th>\n",
       "      <th>month</th>\n",
       "      <th>now</th>\n",
       "      <th>begin</th>\n",
       "      <th>high</th>\n",
       "      <th>low</th>\n",
       "      <th>diffirence(%)</th>\n",
       "      <th>exchange_rate</th>\n",
       "    </tr>\n",
       "  </thead>\n",
       "  <tbody>\n",
       "    <tr>\n",
       "      <th>0</th>\n",
       "      <td>2021-05-07</td>\n",
       "      <td>2021</td>\n",
       "      <td>5</td>\n",
       "      <td>10.2900</td>\n",
       "      <td>10.3058</td>\n",
       "      <td>10.3292</td>\n",
       "      <td>10.2661</td>\n",
       "      <td>-0.17</td>\n",
       "      <td>EUR-TRY</td>\n",
       "    </tr>\n",
       "    <tr>\n",
       "      <th>1</th>\n",
       "      <td>2021-04-07</td>\n",
       "      <td>2021</td>\n",
       "      <td>4</td>\n",
       "      <td>10.3071</td>\n",
       "      <td>10.3071</td>\n",
       "      <td>10.3278</td>\n",
       "      <td>10.2867</td>\n",
       "      <td>0.10</td>\n",
       "      <td>EUR-TRY</td>\n",
       "    </tr>\n",
       "    <tr>\n",
       "      <th>2</th>\n",
       "      <td>2021-02-07</td>\n",
       "      <td>2021</td>\n",
       "      <td>2</td>\n",
       "      <td>10.2970</td>\n",
       "      <td>10.2662</td>\n",
       "      <td>10.3301</td>\n",
       "      <td>10.2332</td>\n",
       "      <td>0.48</td>\n",
       "      <td>EUR-TRY</td>\n",
       "    </tr>\n",
       "    <tr>\n",
       "      <th>3</th>\n",
       "      <td>2021-01-07</td>\n",
       "      <td>2021</td>\n",
       "      <td>1</td>\n",
       "      <td>10.2480</td>\n",
       "      <td>10.3277</td>\n",
       "      <td>10.3441</td>\n",
       "      <td>10.2348</td>\n",
       "      <td>-0.68</td>\n",
       "      <td>EUR-TRY</td>\n",
       "    </tr>\n",
       "    <tr>\n",
       "      <th>4</th>\n",
       "      <td>2021-06-30</td>\n",
       "      <td>2021</td>\n",
       "      <td>6</td>\n",
       "      <td>10.3182</td>\n",
       "      <td>10.3958</td>\n",
       "      <td>10.4190</td>\n",
       "      <td>10.2581</td>\n",
       "      <td>-0.64</td>\n",
       "      <td>EUR-TRY</td>\n",
       "    </tr>\n",
       "  </tbody>\n",
       "</table>\n",
       "</div>"
      ],
      "text/plain": [
       "        date  year  month      now    begin     high      low  diffirence(%)  \\\n",
       "0 2021-05-07  2021      5  10.2900  10.3058  10.3292  10.2661          -0.17   \n",
       "1 2021-04-07  2021      4  10.3071  10.3071  10.3278  10.2867           0.10   \n",
       "2 2021-02-07  2021      2  10.2970  10.2662  10.3301  10.2332           0.48   \n",
       "3 2021-01-07  2021      1  10.2480  10.3277  10.3441  10.2348          -0.68   \n",
       "4 2021-06-30  2021      6  10.3182  10.3958  10.4190  10.2581          -0.64   \n",
       "\n",
       "  exchange_rate  \n",
       "0       EUR-TRY  \n",
       "1       EUR-TRY  \n",
       "2       EUR-TRY  \n",
       "3       EUR-TRY  \n",
       "4       EUR-TRY  "
      ]
     },
     "execution_count": 42,
     "metadata": {},
     "output_type": "execute_result"
    }
   ],
   "source": [
    "df.head()"
   ]
  },
  {
   "cell_type": "code",
   "execution_count": 43,
   "metadata": {},
   "outputs": [],
   "source": [
    "bad = df[(df[\"year\"] >= 2016) & (df[\"exchange_rate\"] == \"USD-TRY\")]"
   ]
  },
  {
   "cell_type": "code",
   "execution_count": 44,
   "metadata": {},
   "outputs": [
    {
     "data": {
      "text/html": [
       "<div>\n",
       "<style scoped>\n",
       "    .dataframe tbody tr th:only-of-type {\n",
       "        vertical-align: middle;\n",
       "    }\n",
       "\n",
       "    .dataframe tbody tr th {\n",
       "        vertical-align: top;\n",
       "    }\n",
       "\n",
       "    .dataframe thead th {\n",
       "        text-align: right;\n",
       "    }\n",
       "</style>\n",
       "<table border=\"1\" class=\"dataframe\">\n",
       "  <thead>\n",
       "    <tr style=\"text-align: right;\">\n",
       "      <th></th>\n",
       "      <th>date</th>\n",
       "      <th>year</th>\n",
       "      <th>month</th>\n",
       "      <th>now</th>\n",
       "      <th>begin</th>\n",
       "      <th>high</th>\n",
       "      <th>low</th>\n",
       "      <th>diffirence(%)</th>\n",
       "      <th>exchange_rate</th>\n",
       "    </tr>\n",
       "  </thead>\n",
       "  <tbody>\n",
       "    <tr>\n",
       "      <th>19408</th>\n",
       "      <td>2019-03-01</td>\n",
       "      <td>2019</td>\n",
       "      <td>3</td>\n",
       "      <td>5.4664</td>\n",
       "      <td>5.4002</td>\n",
       "      <td>5.8300</td>\n",
       "      <td>5.3857</td>\n",
       "      <td>1.22</td>\n",
       "      <td>USD-TRY</td>\n",
       "    </tr>\n",
       "    <tr>\n",
       "      <th>13921</th>\n",
       "      <td>2018-07-17</td>\n",
       "      <td>2018</td>\n",
       "      <td>7</td>\n",
       "      <td>4.8065</td>\n",
       "      <td>4.8451</td>\n",
       "      <td>4.8606</td>\n",
       "      <td>4.7755</td>\n",
       "      <td>-0.82</td>\n",
       "      <td>USD-TRY</td>\n",
       "    </tr>\n",
       "    <tr>\n",
       "      <th>18792</th>\n",
       "      <td>2021-05-14</td>\n",
       "      <td>2021</td>\n",
       "      <td>5</td>\n",
       "      <td>8.4413</td>\n",
       "      <td>8.5026</td>\n",
       "      <td>8.5140</td>\n",
       "      <td>8.3795</td>\n",
       "      <td>-0.65</td>\n",
       "      <td>USD-TRY</td>\n",
       "    </tr>\n",
       "    <tr>\n",
       "      <th>19017</th>\n",
       "      <td>2020-03-07</td>\n",
       "      <td>2020</td>\n",
       "      <td>3</td>\n",
       "      <td>6.8596</td>\n",
       "      <td>6.8509</td>\n",
       "      <td>6.8773</td>\n",
       "      <td>6.8404</td>\n",
       "      <td>0.18</td>\n",
       "      <td>USD-TRY</td>\n",
       "    </tr>\n",
       "    <tr>\n",
       "      <th>14466</th>\n",
       "      <td>2016-06-14</td>\n",
       "      <td>2016</td>\n",
       "      <td>6</td>\n",
       "      <td>2.9350</td>\n",
       "      <td>2.9198</td>\n",
       "      <td>2.9420</td>\n",
       "      <td>2.9132</td>\n",
       "      <td>0.53</td>\n",
       "      <td>USD-TRY</td>\n",
       "    </tr>\n",
       "  </tbody>\n",
       "</table>\n",
       "</div>"
      ],
      "text/plain": [
       "            date  year  month     now   begin    high     low  diffirence(%)  \\\n",
       "19408 2019-03-01  2019      3  5.4664  5.4002  5.8300  5.3857           1.22   \n",
       "13921 2018-07-17  2018      7  4.8065  4.8451  4.8606  4.7755          -0.82   \n",
       "18792 2021-05-14  2021      5  8.4413  8.5026  8.5140  8.3795          -0.65   \n",
       "19017 2020-03-07  2020      3  6.8596  6.8509  6.8773  6.8404           0.18   \n",
       "14466 2016-06-14  2016      6  2.9350  2.9198  2.9420  2.9132           0.53   \n",
       "\n",
       "      exchange_rate  \n",
       "19408       USD-TRY  \n",
       "13921       USD-TRY  \n",
       "18792       USD-TRY  \n",
       "19017       USD-TRY  \n",
       "14466       USD-TRY  "
      ]
     },
     "execution_count": 44,
     "metadata": {},
     "output_type": "execute_result"
    }
   ],
   "source": [
    "bad.sample(5)"
   ]
  },
  {
   "cell_type": "code",
   "execution_count": 45,
   "metadata": {},
   "outputs": [
    {
     "data": {
      "image/png": "[encoded data removed]",
      "text/plain": [
       "<Figure size 1008x432 with 1 Axes>"
      ]
     },
     "metadata": {
      "needs_background": "light"
     },
     "output_type": "display_data"
    }
   ],
   "source": [
    "fig, ax = plt.subplots(figsize=(14,6))\n",
    "sns.barplot(data=bad, x=\"month\", y=\"begin\", hue=\"year\", ax=ax);\n",
    "plt.legend(loc=(1.01,.5), title=\"years\");\n"
   ]
  },
  {
   "cell_type": "code",
   "execution_count": 46,
   "metadata": {},
   "outputs": [
    {
     "data": {
      "text/html": [
       "<div>\n",
       "<style scoped>\n",
       "    .dataframe tbody tr th:only-of-type {\n",
       "        vertical-align: middle;\n",
       "    }\n",
       "\n",
       "    .dataframe tbody tr th {\n",
       "        vertical-align: top;\n",
       "    }\n",
       "\n",
       "    .dataframe thead th {\n",
       "        text-align: right;\n",
       "    }\n",
       "</style>\n",
       "<table border=\"1\" class=\"dataframe\">\n",
       "  <thead>\n",
       "    <tr style=\"text-align: right;\">\n",
       "      <th></th>\n",
       "      <th>year</th>\n",
       "      <th>month</th>\n",
       "      <th>now</th>\n",
       "      <th>begin</th>\n",
       "      <th>high</th>\n",
       "      <th>low</th>\n",
       "      <th>diffirence(%)</th>\n",
       "    </tr>\n",
       "  </thead>\n",
       "  <tbody>\n",
       "    <tr>\n",
       "      <th>count</th>\n",
       "      <td>19645.000000</td>\n",
       "      <td>19645.000000</td>\n",
       "      <td>19645.000000</td>\n",
       "      <td>19645.000000</td>\n",
       "      <td>19645.000000</td>\n",
       "      <td>19645.000000</td>\n",
       "      <td>19645.000000</td>\n",
       "    </tr>\n",
       "    <tr>\n",
       "      <th>mean</th>\n",
       "      <td>2008.064138</td>\n",
       "      <td>6.494121</td>\n",
       "      <td>1.914807</td>\n",
       "      <td>1.913400</td>\n",
       "      <td>1.928848</td>\n",
       "      <td>1.900166</td>\n",
       "      <td>0.064861</td>\n",
       "    </tr>\n",
       "    <tr>\n",
       "      <th>std</th>\n",
       "      <td>7.959418</td>\n",
       "      <td>3.445629</td>\n",
       "      <td>1.788500</td>\n",
       "      <td>1.787955</td>\n",
       "      <td>1.804963</td>\n",
       "      <td>1.774825</td>\n",
       "      <td>1.077065</td>\n",
       "    </tr>\n",
       "    <tr>\n",
       "      <th>min</th>\n",
       "      <td>1990.000000</td>\n",
       "      <td>1.000000</td>\n",
       "      <td>0.002300</td>\n",
       "      <td>0.002300</td>\n",
       "      <td>0.002300</td>\n",
       "      <td>0.002300</td>\n",
       "      <td>-12.200000</td>\n",
       "    </tr>\n",
       "    <tr>\n",
       "      <th>25%</th>\n",
       "      <td>2002.000000</td>\n",
       "      <td>4.000000</td>\n",
       "      <td>1.110500</td>\n",
       "      <td>1.109800</td>\n",
       "      <td>1.115800</td>\n",
       "      <td>1.105000</td>\n",
       "      <td>-0.340000</td>\n",
       "    </tr>\n",
       "    <tr>\n",
       "      <th>50%</th>\n",
       "      <td>2008.000000</td>\n",
       "      <td>6.000000</td>\n",
       "      <td>1.394000</td>\n",
       "      <td>1.393300</td>\n",
       "      <td>1.403000</td>\n",
       "      <td>1.382500</td>\n",
       "      <td>0.000000</td>\n",
       "    </tr>\n",
       "    <tr>\n",
       "      <th>75%</th>\n",
       "      <td>2015.000000</td>\n",
       "      <td>9.000000</td>\n",
       "      <td>2.109900</td>\n",
       "      <td>2.107800</td>\n",
       "      <td>2.125700</td>\n",
       "      <td>2.092200</td>\n",
       "      <td>0.410000</td>\n",
       "    </tr>\n",
       "    <tr>\n",
       "      <th>max</th>\n",
       "      <td>2021.000000</td>\n",
       "      <td>12.000000</td>\n",
       "      <td>10.536400</td>\n",
       "      <td>10.555200</td>\n",
       "      <td>10.732400</td>\n",
       "      <td>10.486800</td>\n",
       "      <td>52.730000</td>\n",
       "    </tr>\n",
       "  </tbody>\n",
       "</table>\n",
       "</div>"
      ],
      "text/plain": [
       "               year         month           now         begin          high  \\\n",
       "count  19645.000000  19645.000000  19645.000000  19645.000000  19645.000000   \n",
       "mean    2008.064138      6.494121      1.914807      1.913400      1.928848   \n",
       "std        7.959418      3.445629      1.788500      1.787955      1.804963   \n",
       "min     1990.000000      1.000000      0.002300      0.002300      0.002300   \n",
       "25%     2002.000000      4.000000      1.110500      1.109800      1.115800   \n",
       "50%     2008.000000      6.000000      1.394000      1.393300      1.403000   \n",
       "75%     2015.000000      9.000000      2.109900      2.107800      2.125700   \n",
       "max     2021.000000     12.000000     10.536400     10.555200     10.732400   \n",
       "\n",
       "                low  diffirence(%)  \n",
       "count  19645.000000   19645.000000  \n",
       "mean       1.900166       0.064861  \n",
       "std        1.774825       1.077065  \n",
       "min        0.002300     -12.200000  \n",
       "25%        1.105000      -0.340000  \n",
       "50%        1.382500       0.000000  \n",
       "75%        2.092200       0.410000  \n",
       "max       10.486800      52.730000  "
      ]
     },
     "execution_count": 46,
     "metadata": {},
     "output_type": "execute_result"
    }
   ],
   "source": [
    "df.describe()"
   ]
  },
  {
   "cell_type": "code",
   "execution_count": 65,
   "metadata": {},
   "outputs": [],
   "source": [
    "EUR_TRY_USD = df[(df[\"exchange_rate\"]==\"EUR-TRY\" )| (df[\"exchange_rate\"]==\"USD-TRY\")]"
   ]
  },
  {
   "cell_type": "code",
   "execution_count": 70,
   "metadata": {
    "scrolled": true
   },
   "outputs": [
    {
     "data": {
      "image/png": "[encoded data removed]",
      "text/plain": [
       "<Figure size 1000x600 with 1 Axes>"
      ]
     },
     "metadata": {
      "needs_background": "light"
     },
     "output_type": "display_data"
    }
   ],
   "source": [
    "plt.figure(figsize=(10,6),dpi=100)\n",
    "sns.lineplot(data=EUR_TRY_USD, x=\"year\", y=\"begin\", hue=\"exchange_rate\");"
   ]
  },
  {
   "cell_type": "code",
   "execution_count": null,
   "metadata": {},
   "outputs": [],
   "source": []
  }
 ],
 "metadata": {
  "kernelspec": {
   "display_name": "Python 3",
   "language": "python",
   "name": "python3"
  },
  "language_info": {
   "codemirror_mode": {
    "name": "ipython",
    "version": 3
   },
   "file_extension": ".py",
   "mimetype": "text/x-python",
   "name": "python",
   "nbconvert_exporter": "python",
   "pygments_lexer": "ipython3",
   "version": "3.8.5"
  }
 },
 "nbformat": 4,
 "nbformat_minor": 4
}
